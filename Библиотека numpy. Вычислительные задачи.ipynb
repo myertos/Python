{
 "cells": [
  {
   "cell_type": "code",
   "execution_count": null,
   "id": "4322818a",
   "metadata": {},
   "outputs": [],
   "source": [
    "Задание 1\n",
    "Создайте numpy array с элементами от числа N до 0 (например, для N = 10 это будет array([9, 8, 7, 6, 5, 4, 3, 2, 1, 0]))."
   ]
  },
  {
   "cell_type": "code",
   "execution_count": 10,
   "id": "dd5f4015",
   "metadata": {},
   "outputs": [],
   "source": [
    "import numpy as np"
   ]
  },
  {
   "cell_type": "code",
   "execution_count": 15,
   "id": "f8044e99",
   "metadata": {},
   "outputs": [
    {
     "name": "stdout",
     "output_type": "stream",
     "text": [
      "[9 8 7 6 5 4 3 2 1 0]\n"
     ]
    }
   ],
   "source": [
    "Z = np.arange(10)\n",
    "Z = Z[::-1]\n",
    "print(Z)"
   ]
  },
  {
   "cell_type": "code",
   "execution_count": null,
   "id": "e175db6d",
   "metadata": {},
   "outputs": [],
   "source": [
    "Задание 2\n",
    "Создайте диагональную матрицу с элементами от N до 0. Посчитайте сумму ее значений на диагонали."
   ]
  },
  {
   "cell_type": "code",
   "execution_count": null,
   "id": "79eae62c",
   "metadata": {},
   "outputs": [],
   "source": [
    "f'введите количество элементов'\n",
    "n=int(input())\n",
    "matrix=np.diag(np.arange(n,0,-1))\n",
    "summ=0\n",
    "for line in matrix:\n",
    "    for j in line:\n",
    "        summ+=j\n",
    "print(matrix)\n",
    "print('сумма: {}'.format(summ))"
   ]
  },
  {
   "cell_type": "code",
   "execution_count": null,
   "id": "cb92b946",
   "metadata": {},
   "outputs": [],
   "source": [
    "Задание 3\n",
    "Решите систему уравнений:\n",
    "4x + 2y + z = 4\n",
    "x + 3y = 12\n",
    "5y + 4z = -3"
   ]
  },
  {
   "cell_type": "code",
   "execution_count": null,
   "id": "ad651a16",
   "metadata": {},
   "outputs": [],
   "source": [
    "from numpy import linalg\n",
    "a=np.array([[4,2,1],[1,3,0],[0,5,4]])\n",
    "b=np.array([4,12,-3])\n",
    "linalg.solve(a,b)"
   ]
  },
  {
   "cell_type": "code",
   "execution_count": null,
   "id": "08093c55",
   "metadata": {},
   "outputs": [],
   "source": [
    "Задание 4\n",
    "Имеется матрица покупок в интернет-магазине. \n",
    "Столбец А - ID пользователя. Остальные столбцы - количество покупок категорий товаров этим пользователем:"
   ]
  },
  {
   "cell_type": "code",
   "execution_count": null,
   "id": "ea94176d",
   "metadata": {},
   "outputs": [],
   "source": [
    "Матрица в виде numpy array"
   ]
  },
  {
   "cell_type": "code",
   "execution_count": 3,
   "id": "f1d08999",
   "metadata": {},
   "outputs": [],
   "source": [
    "users_stats = np.array(\n",
    "    [\n",
    "        [2, 1, 0, 0, 0, 0],\n",
    "        [1, 1, 2, 1, 0, 0],\n",
    "        [2, 0, 1, 0, 0, 0],\n",
    "        [1, 1, 2, 1, 0, 1],\n",
    "        [0, 0, 1, 2, 0, 0],\n",
    "        [0, 0, 0, 0, 0, 5],\n",
    "        [1, 0, 0, 0, 0, 0],\n",
    "        [0, 1, 1, 0, 0, 0],\n",
    "        [0, 0, 0, 1, 1, 3],\n",
    "        [1, 0, 0, 2, 1, 4]\n",
    "    ], \n",
    "    np.int32\n",
    ")"
   ]
  },
  {
   "cell_type": "code",
   "execution_count": null,
   "id": "1cf70059",
   "metadata": {},
   "outputs": [],
   "source": [
    "На сайт заходит очередной посетитель, о покупках которого известно следующее:"
   ]
  },
  {
   "cell_type": "code",
   "execution_count": 24,
   "id": "189060bb",
   "metadata": {},
   "outputs": [],
   "source": [
    "next_user_stats = np.array([0, 1, 2, 0, 0, 0])"
   ]
  },
  {
   "cell_type": "code",
   "execution_count": 14,
   "id": "4ffc14c1",
   "metadata": {},
   "outputs": [],
   "source": [
    "import math\n"
   ]
  },
  {
   "cell_type": "code",
   "execution_count": null,
   "id": "60574343",
   "metadata": {},
   "outputs": [],
   "source": [
    "Найдите самого похожего пользователя. \n",
    "Т. е. посчитайте косинусное сходство между этим пользователем и всеми пользователями из массива user_stats"
   ]
  },
  {
   "cell_type": "code",
   "execution_count": null,
   "id": "e9fc453e",
   "metadata": {},
   "outputs": [],
   "source": [
    "Мне нужно применить cosine к каждой строке матрицы users_stats. В numpy для этого есть функция apply_along_axis:"
   ]
  },
  {
   "cell_type": "code",
   "execution_count": 25,
   "id": "fc0d6ee5",
   "metadata": {},
   "outputs": [],
   "source": [
    "def cosine( users_stats, next_user_stats ):\n",
    "    # длины векторов\n",
    "    users_stats_Length = np.linalg.norm( users_stats )\n",
    "    next_user_stats_Length = np.linalg.norm( next_user_stats )\n",
    "    \n",
    "    return np.dot( users_stats, next_user_stats ) / ( users_stats_Length * next_user_stats_Length )"
   ]
  },
  {
   "cell_type": "code",
   "execution_count": 26,
   "id": "d711b40b",
   "metadata": {},
   "outputs": [],
   "source": [
    "muls = np.apply_along_axis(cosine, 1, users_stats, next_user_stats)"
   ]
  },
  {
   "cell_type": "code",
   "execution_count": null,
   "id": "5bb4cc8a",
   "metadata": {},
   "outputs": [],
   "source": [
    "Второй аргумент 1 означает, что функция cosine должна вызываться для строк. \n",
    "Последний аргумент next_user_stats будет подставляться вторым аргументом в cosine. \n",
    "Вызов этой функции эквивалентен вот какому коду на Python:"
   ]
  },
  {
   "cell_type": "code",
   "execution_count": 27,
   "id": "715534ad",
   "metadata": {},
   "outputs": [],
   "source": [
    "muls = np.array([cosine(row, next_user_stats) for row in users_stats])"
   ]
  },
  {
   "cell_type": "code",
   "execution_count": null,
   "id": "48226498",
   "metadata": {},
   "outputs": [],
   "source": [
    "В обоих случаях результат равен"
   ]
  },
  {
   "cell_type": "code",
   "execution_count": 26,
   "id": "ffa1e0aa",
   "metadata": {},
   "outputs": [
    {
     "name": "stdout",
     "output_type": "stream",
     "text": [
      "[[0 1 2]\n",
      " [3 4 5]\n",
      " [6 7 8]]\n"
     ]
    }
   ],
   "source": [
    "Функция np.argmax находит индекс элемента, который соответствует максимальному значению массива (нумерация с нуля):"
   ]
  },
  {
   "cell_type": "code",
   "execution_count": 28,
   "id": "4a8320cc",
   "metadata": {},
   "outputs": [],
   "source": [
    "best_user = np.argmax(muls)"
   ]
  },
  {
   "cell_type": "code",
   "execution_count": 29,
   "id": "af770050",
   "metadata": {},
   "outputs": [
    {
     "data": {
      "text/plain": [
       "7"
      ]
     },
     "execution_count": 29,
     "metadata": {},
     "output_type": "execute_result"
    }
   ],
   "source": [
    "best_user"
   ]
  },
  {
   "cell_type": "code",
   "execution_count": null,
   "id": "51fef1ac",
   "metadata": {},
   "outputs": [],
   "source": []
  }
 ],
 "metadata": {
  "kernelspec": {
   "display_name": "Python 3",
   "language": "python",
   "name": "python3"
  },
  "language_info": {
   "codemirror_mode": {
    "name": "ipython",
    "version": 3
   },
   "file_extension": ".py",
   "mimetype": "text/x-python",
   "name": "python",
   "nbconvert_exporter": "python",
   "pygments_lexer": "ipython3",
   "version": "3.8.8"
  }
 },
 "nbformat": 4,
 "nbformat_minor": 5
}
