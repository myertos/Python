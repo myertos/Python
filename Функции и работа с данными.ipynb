{
 "cells": [
  {
   "cell_type": "code",
   "execution_count": null,
   "id": "485ee569",
   "metadata": {},
   "outputs": [],
   "source": [
    "Задание 1**\n",
    "Напишите функцию, которая классифицирует фильмы из материалов занятия по следующим правилам:\n",
    "- оценка 2 и меньше - низкий рейтинг\n",
    "- оценка 4 и меньше - средний рейтинг\n",
    "- оценка 4.5 и 5 - высокий рейтинг\n",
    "\n",
    "Результат классификации запишите в столбец class"
   ]
  },
  {
   "cell_type": "code",
   "execution_count": 2,
   "id": "10f56d86",
   "metadata": {},
   "outputs": [
    {
     "data": {
      "text/html": [
       "<div>\n",
       "<style scoped>\n",
       "    .dataframe tbody tr th:only-of-type {\n",
       "        vertical-align: middle;\n",
       "    }\n",
       "\n",
       "    .dataframe tbody tr th {\n",
       "        vertical-align: top;\n",
       "    }\n",
       "\n",
       "    .dataframe thead th {\n",
       "        text-align: right;\n",
       "    }\n",
       "</style>\n",
       "<table border=\"1\" class=\"dataframe\">\n",
       "  <thead>\n",
       "    <tr style=\"text-align: right;\">\n",
       "      <th></th>\n",
       "      <th>userId</th>\n",
       "      <th>movieId</th>\n",
       "      <th>rating</th>\n",
       "      <th>timestamp</th>\n",
       "      <th>class</th>\n",
       "    </tr>\n",
       "  </thead>\n",
       "  <tbody>\n",
       "    <tr>\n",
       "      <th>100</th>\n",
       "      <td>4</td>\n",
       "      <td>255</td>\n",
       "      <td>0.5</td>\n",
       "      <td>1113796828</td>\n",
       "      <td>низкий рейтинг</td>\n",
       "    </tr>\n",
       "    <tr>\n",
       "      <th>101</th>\n",
       "      <td>4</td>\n",
       "      <td>256</td>\n",
       "      <td>2.5</td>\n",
       "      <td>1127946576</td>\n",
       "      <td>средний рейтинг</td>\n",
       "    </tr>\n",
       "    <tr>\n",
       "      <th>102</th>\n",
       "      <td>4</td>\n",
       "      <td>260</td>\n",
       "      <td>4.5</td>\n",
       "      <td>1127947466</td>\n",
       "      <td>высокий рейтинг</td>\n",
       "    </tr>\n",
       "    <tr>\n",
       "      <th>103</th>\n",
       "      <td>4</td>\n",
       "      <td>267</td>\n",
       "      <td>3.5</td>\n",
       "      <td>1114050525</td>\n",
       "      <td>средний рейтинг</td>\n",
       "    </tr>\n",
       "    <tr>\n",
       "      <th>104</th>\n",
       "      <td>4</td>\n",
       "      <td>288</td>\n",
       "      <td>4.5</td>\n",
       "      <td>1113767252</td>\n",
       "      <td>высокий рейтинг</td>\n",
       "    </tr>\n",
       "    <tr>\n",
       "      <th>105</th>\n",
       "      <td>4</td>\n",
       "      <td>292</td>\n",
       "      <td>3.5</td>\n",
       "      <td>1113767157</td>\n",
       "      <td>средний рейтинг</td>\n",
       "    </tr>\n",
       "    <tr>\n",
       "      <th>106</th>\n",
       "      <td>4</td>\n",
       "      <td>293</td>\n",
       "      <td>4.5</td>\n",
       "      <td>1113795816</td>\n",
       "      <td>высокий рейтинг</td>\n",
       "    </tr>\n",
       "    <tr>\n",
       "      <th>107</th>\n",
       "      <td>4</td>\n",
       "      <td>296</td>\n",
       "      <td>5.0</td>\n",
       "      <td>1113767056</td>\n",
       "      <td>высокий рейтинг</td>\n",
       "    </tr>\n",
       "    <tr>\n",
       "      <th>108</th>\n",
       "      <td>4</td>\n",
       "      <td>315</td>\n",
       "      <td>2.0</td>\n",
       "      <td>1113796665</td>\n",
       "      <td>низкий рейтинг</td>\n",
       "    </tr>\n",
       "    <tr>\n",
       "      <th>109</th>\n",
       "      <td>4</td>\n",
       "      <td>316</td>\n",
       "      <td>5.0</td>\n",
       "      <td>1113767120</td>\n",
       "      <td>высокий рейтинг</td>\n",
       "    </tr>\n",
       "    <tr>\n",
       "      <th>110</th>\n",
       "      <td>4</td>\n",
       "      <td>317</td>\n",
       "      <td>2.0</td>\n",
       "      <td>1113767337</td>\n",
       "      <td>низкий рейтинг</td>\n",
       "    </tr>\n",
       "  </tbody>\n",
       "</table>\n",
       "</div>"
      ],
      "text/plain": [
       "     userId  movieId  rating   timestamp            class\n",
       "100       4      255     0.5  1113796828   низкий рейтинг\n",
       "101       4      256     2.5  1127946576  средний рейтинг\n",
       "102       4      260     4.5  1127947466  высокий рейтинг\n",
       "103       4      267     3.5  1114050525  средний рейтинг\n",
       "104       4      288     4.5  1113767252  высокий рейтинг\n",
       "105       4      292     3.5  1113767157  средний рейтинг\n",
       "106       4      293     4.5  1113795816  высокий рейтинг\n",
       "107       4      296     5.0  1113767056  высокий рейтинг\n",
       "108       4      315     2.0  1113796665   низкий рейтинг\n",
       "109       4      316     5.0  1113767120  высокий рейтинг\n",
       "110       4      317     2.0  1113767337   низкий рейтинг"
      ]
     },
     "execution_count": 2,
     "metadata": {},
     "output_type": "execute_result"
    }
   ],
   "source": [
    "import pandas as pd\n",
    "data=pd.read_csv('ratings.csv','r', delimiter=',')\n",
    "data.head()\n",
    "                                  \n",
    "#Решение1: принимает весь датафрейм - отрабатвает быстрее, чем если передавать в функцию построчно\n",
    "def raiting_class_simple(some_data):\n",
    "    ls=[]\n",
    "    for line in data.rating:\n",
    "        if line>=4.5:\n",
    "            ls.append('высокий рейтинг')\n",
    "        elif 2<line<4.5:\n",
    "            ls.append('средний рейтинг')\n",
    "        elif line<=2:\n",
    "            ls.append('низкий рейтинг')\n",
    "    data['class']=ls\n",
    "    #data.loc[100:110]\n",
    "    return data\n",
    "\n",
    "data2=raiting_class_simple(data)\n",
    "data2.loc[100:110]"
   ]
  },
  {
   "cell_type": "code",
   "execution_count": null,
   "id": "3ecd61aa",
   "metadata": {},
   "outputs": [],
   "source": [
    "#Решение2: передает в функцию построчно\n",
    "data=pd.read_csv('ratings.csv','r', delimiter=',')\n",
    "data.head()\n",
    "\n",
    "def raiting_class(row):\n",
    "    if row.rating>=4.5:\n",
    "        return 'высокий рейтинг'\n",
    "    elif 2<row.rating<4.5:\n",
    "        return 'средний рейтинг'\n",
    "    elif row.rating<=2:\n",
    "        return 'низкий рейтинг'\n",
    "        \n",
    "data['class2']=data.apply(raiting_class, axis=1)\n",
    "data.loc[100:110]"
   ]
  },
  {
   "cell_type": "code",
   "execution_count": null,
   "id": "6363092c",
   "metadata": {},
   "outputs": [],
   "source": [
    "Задание 2\n",
    "Используем файл keywords.csv.\n",
    "\n",
    "Необходимо написать гео-классификатор, который каждой строке сможет выставить географическую принадлежность определенному региону. \n",
    "Т. е. если поисковый запрос содержит название города региона, то в столбце ‘region’ пишется название этого региона. Если поисковый запрос не содержит названия города, то ставим ‘undefined’.\n",
    "\n",
    "Правила распределения по регионам Центр, Северо-Запад и Дальний Восток:\n",
    "\n",
    "geo_data = {\n",
    "\n",
    "1\n",
    "2\n",
    "3\n",
    "4\n",
    "5\n",
    "'Центр': ['москва', 'тула', 'ярославль'],\n",
    "\n",
    "'Северо-Запад': ['петербург', 'псков', 'мурманск'],\n",
    "\n",
    "'Дальний Восток': ['владивосток', 'сахалин', 'хабаровск']\n",
    "}\n",
    "\n",
    "Результат классификации запишите в отдельный столбец region."
   ]
  },
  {
   "cell_type": "code",
   "execution_count": 15,
   "id": "cf459acf",
   "metadata": {},
   "outputs": [
    {
     "data": {
      "text/plain": [
       "undefined         99281\n",
       "Центр               387\n",
       "Северо-Запад        238\n",
       "Дальний Восток       94\n",
       "Name: region, dtype: int64"
      ]
     },
     "execution_count": 15,
     "metadata": {},
     "output_type": "execute_result"
    }
   ],
   "source": [
    "import pandas as pd\n",
    "data = pd.read_csv('keywords.csv')\n",
    "#data.head()\n",
    "    \n",
    "    # создаем функцию с 3 вариантами регоинов и 1 вариантом по умолчанию\n",
    "def geo_cl(row):\n",
    "    if 'москва' in row['keyword'] or 'тула' in row['keyword'] or 'ярославль' in row['keyword']:\n",
    "        return 'Центр'\n",
    "    elif 'петербург' in row['keyword'] or 'псков' in row['keyword'] or 'псков' in row['keyword']:\n",
    "        return 'Северо-Запад'\n",
    "    elif 'владивосток' in row['keyword'] or 'сахалин' in row['keyword'] or 'хабаровск' in row['keyword']:\n",
    "        return 'Дальний Восток'\n",
    "    else:\n",
    "        return 'undefined'\n",
    "    \n",
    "# прогоняем функцию с помощью апплай\n",
    "data['region'] = data.apply(geo_cl, axis=1)\n",
    "    \n",
    "# проверяем, сколько значений, отличных от 'undefined', получилось в итоге\n",
    "data['region'].value_counts()"
   ]
  },
  {
   "cell_type": "code",
   "execution_count": null,
   "id": "cd911b42",
   "metadata": {},
   "outputs": [],
   "source": [
    "Задание 3 (бонусное)\n",
    "\n",
    "Есть мнение, что “раньше снимали настоящее кино, не то что сейчас”. Ваша задача проверить это утверждение, используя файлы с рейтингами фильмов из прошлого домашнего занятия (файл movies.csv и ratings.csv из базы grouplens.org.../movielens). Т. е. проверить верно ли, что с ростом года выпуска фильма его средний рейтинг становится ниже.\n",
    "\n",
    "При этом мы не будем затрагивать субьективные факторы выставления этих рейтингов, а пройдемся по следующему алгоритму:\n",
    "\n",
    "В переменную years запишите список из всех годов с 1950 по 2010.\n",
    "\n",
    "Напишите функцию production_year, которая каждой строке из названия фильма выставляет год выпуска. Не все названия фильмов содержат год выпуска в одинаковом формате, поэтому используйте следующий алгоритм:\n",
    "\n",
    "для каждой строки пройдите по всем годам списка years\n",
    "если номер года присутствует в названии фильма, то функция возвращает этот год как год выпуска\n",
    "если ни один из номеров года списка years не встретился в названии фильма, то возвращается 1900 год\n",
    "Запишите год выпуска фильма по алгоритму пункта 2 в новый столбец ‘year’\n",
    "\n",
    "Посчитайте средний рейтинг всех фильмов для каждого значения столбца ‘year’ и отсортируйте результат по убыванию рейтинга"
   ]
  },
  {
   "cell_type": "code",
   "execution_count": 16,
   "id": "e4b8b273",
   "metadata": {},
   "outputs": [
    {
     "name": "stderr",
     "output_type": "stream",
     "text": [
      "Matplotlib is building the font cache; this may take a moment.\n",
      "C:\\Users\\KK\\anaconda3\\lib\\site-packages\\pandas\\core\\frame.py:4441: SettingWithCopyWarning: \n",
      "A value is trying to be set on a copy of a slice from a DataFrame\n",
      "\n",
      "See the caveats in the documentation: https://pandas.pydata.org/pandas-docs/stable/user_guide/indexing.html#returning-a-view-versus-a-copy\n",
      "  return super().rename(\n"
     ]
    },
    {
     "data": {
      "image/png": "[encoded data removed]",
      "text/plain": [
       "<Figure size 432x288 with 1 Axes>"
      ]
     },
     "metadata": {
      "needs_background": "light"
     },
     "output_type": "display_data"
    },
    {
     "data": {
      "image/png": "[encoded data removed]",
      "text/plain": [
       "<Figure size 216x216 with 2 Axes>"
      ]
     },
     "metadata": {
      "needs_background": "light"
     },
     "output_type": "display_data"
    },
    {
     "data": {
      "image/png": "[encoded data removed]",
      "text/plain": [
       "<Figure size 432x288 with 2 Axes>"
      ]
     },
     "metadata": {
      "needs_background": "light"
     },
     "output_type": "display_data"
    },
    {
     "data": {
      "text/plain": [
       "<AxesSubplot:>"
      ]
     },
     "execution_count": 16,
     "metadata": {},
     "output_type": "execute_result"
    },
    {
     "data": {
      "image/png": "[encoded data removed]",
      "text/plain": [
       "<Figure size 360x360 with 2 Axes>"
      ]
     },
     "metadata": {
      "needs_background": "light"
     },
     "output_type": "display_data"
    }
   ],
   "source": [
    "#загрузим нужные данные\n",
    "data_ratings=pd.read_csv('ratings.csv', 'r', delimiter=',')\n",
    "data_movies=pd.read_csv('movies.csv', 'r', delimiter=',')\n",
    "\n",
    "#создадим функцию, которая будет проверять год в названии фильма и все значения в диапазоне 1950-2010 отмечать соответствущим \n",
    "#годом, остальные отмечать как 1900\n",
    "def production_year(film):\n",
    "    years=range(1950,2010)\n",
    "    val=[yr for yr in years if str(yr) in film['title']]\n",
    "    if val:\n",
    "        return val[0]\n",
    "    else:\n",
    "        return 1900\n",
    "        \n",
    "#запишем в новый столбец года, которые распределила функция\n",
    "data_movies['year']=data_movies.apply(production_year, axis=1)\n",
    "\n",
    "\n",
    "#объединим два датафрейма, чтобы посчитать средний рейтинг по группировке года\n",
    "joined=data_movies.merge(data_ratings, on='movieId', how='left')\n",
    "jd=joined.groupby('year').rating.mean().reset_index()\n",
    "jd.sort_values('rating', ascending=False)\n",
    "\n",
    "#на самом деле плохо видно, но средний рейтинг действитетельно ухудшается на новые фильмы, на графике нагляднее\n",
    "#исключим 1900 год не только для удобства, но и т.к. он содержит одновременно данные \n",
    "#о совсем старых (<1950) и одновременно об очень новых фильмах (>2010) помимо фильмов без года\n",
    "jd_excl1900=jd[jd['year']!=1900] \n",
    "import matplotlib.pyplot as plt\n",
    "plt.plot(jd_excl1900['year'], jd_excl1900['rating'])\n",
    "\n",
    "#также чтобы полностью убедиться в этом, посмотрим на линейную зависимость между значением года и средним рейтингом\n",
    "import seaborn as sns\n",
    "f, ax = plt.subplots(figsize=(3, 3))\n",
    "sns.heatmap(jd_excl1900.corr(), annot=True, fmt='.1f', ax=ax, cmap=sns.color_palette('coolwarm', 6))\n",
    "#видим довольно сильную отрицательную зависимость (коэффициент корреляции -0,8), т.е. с ростом года выпуска в среднем \n",
    "#фильмы действительно получают более низкую оценку зрителей\n",
    "\n",
    "\n",
    "#ДОПОЛНИТЕЛЬНО ОТ СЕБЯ\n",
    "#есть мысль, что такая зависимость обусловлена тем, что более ранние фильмы пересматривает все меньше людей и ввиду \n",
    "#этого меньше появляется хэйтеров, опускающих рейтинги\n",
    "#подтянем также количество записей о выставленных рейтингах по году, исключив 1900, и также \n",
    "jd2=joined.groupby('year').agg({'rating':'mean', 'movieId':'count'}).reset_index()\n",
    "jd2_excl1900=jd2[jd2['year']!=1900]\n",
    "#для удобства переименуем заголовки\n",
    "jd2_excl1900.rename(columns={'rating': 'avg_rating', 'movieId': 'cnt_recs'}, inplace=True)\n",
    "\n",
    "#видим, что на графике видно, как при росте количества записей об отзывах(оранжевый) падает средний рейтинг(синий), \n",
    "#это происходит с приближением даты выпуска к 2010му году \n",
    "\n",
    "fig=plt.figure()\n",
    "ax=fig.add_subplot(111, label=\"1\")\n",
    "ax2=fig.add_subplot(111, label=\"2\", frame_on=False)\n",
    "ax.plot(jd2_excl1900['year'], jd2_excl1900['avg_rating'], color=\"C0\")\n",
    "ax2.plot(jd2_excl1900['year'], jd2_excl1900['cnt_recs'], color=\"C1\")\n",
    "plt.show()\n",
    "\n",
    "#коэффициенты корреляции также доказывают, что есть обратная зависимость от количества отзывов и рейтингом (-0,7) по году\n",
    "f, ax = plt.subplots(figsize=(5, 5))\n",
    "sns.heatmap(jd2_excl1900.corr(), annot=True, fmt='.1f', ax=ax, cmap=sns.color_palette('coolwarm',9))\n",
    "#уверен, есть зависимость между возрастом пользователей и отметками фильмам, скажем чем старше человек, тем меньше его \n",
    "#можно зацепить новой историей, так как все подобное он уже видел, а впечатлительная молодежь составляет меньшую долю \n",
    "#в общем количестве оценок и их хорошие оценки тонут, подавленные основной циничной массой отзывов :) а может и нет\n",
    "#к сожалению соответствующих данных нет, чтобы проверить"
   ]
  },
  {
   "cell_type": "code",
   "execution_count": null,
   "id": "9aff6d46",
   "metadata": {},
   "outputs": [],
   "source": []
  }
 ],
 "metadata": {
  "kernelspec": {
   "display_name": "Python 3",
   "language": "python",
   "name": "python3"
  },
  "language_info": {
   "codemirror_mode": {
    "name": "ipython",
    "version": 3
   },
   "file_extension": ".py",
   "mimetype": "text/x-python",
   "name": "python",
   "nbconvert_exporter": "python",
   "pygments_lexer": "ipython3",
   "version": "3.8.8"
  }
 },
 "nbformat": 4,
 "nbformat_minor": 5
}
