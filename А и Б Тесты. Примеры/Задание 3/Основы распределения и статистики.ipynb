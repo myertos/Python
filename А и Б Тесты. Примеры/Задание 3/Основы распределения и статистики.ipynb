{
 "cells": [
  {
   "cell_type": "markdown",
   "id": "1d5b56a2",
   "metadata": {},
   "source": [
    "# Используя тестовые данные рассчитайте 3 метрики. Для каждой метрики:\n",
    "\n",
    "● Посчитайте среднее\n",
    "\n",
    "● Посчитайте медиану\n",
    "\n",
    "● Посчитайте 95-персентиль\n",
    "\n",
    "● Визуализируйте распределение частотным графиком и boxplot (“ящиком с усами”)\n",
    "\n",
    "Метрики:\n",
    "\n",
    "1 - Выполненные поездки: Ride_completed\n",
    "\n",
    "2 - Ввод данных маршрута: Price_seen\n",
    "\n",
    "3 - Дистанция, км: Distance\n",
    "\n",
    "4 - Возраст: Age"
   ]
  },
  {
   "cell_type": "code",
   "execution_count": 1,
   "id": "86890d3a",
   "metadata": {},
   "outputs": [
    {
     "name": "stdout",
     "output_type": "stream",
     "text": [
      "(101500, 16)\n",
      "<class 'pandas.core.frame.DataFrame'>\n",
      "RangeIndex: 101500 entries, 0 to 101499\n",
      "Data columns (total 16 columns):\n",
      " #   Column             Non-Null Count   Dtype  \n",
      "---  ------             --------------   -----  \n",
      " 0   Unnamed: 0         101500 non-null  int64  \n",
      " 1   date               101500 non-null  object \n",
      " 2   user_id            101500 non-null  int64  \n",
      " 3   hour               101500 non-null  int64  \n",
      " 4   app_opened         101500 non-null  int64  \n",
      " 5   price_seen         101500 non-null  int64  \n",
      " 6   order_made         101500 non-null  int64  \n",
      " 7   surge              91431 non-null   object \n",
      " 8   ride_completed     101500 non-null  int64  \n",
      " 9   user_cancelled     101500 non-null  int64  \n",
      " 10  age                101500 non-null  int64  \n",
      " 11  os                 101500 non-null  object \n",
      " 12  city_center_order  101500 non-null  int64  \n",
      " 13  order_class        101500 non-null  object \n",
      " 14  distance           91431 non-null   float64\n",
      " 15  rfm                101500 non-null  object \n",
      "dtypes: float64(1), int64(10), object(5)\n",
      "memory usage: 12.4+ MB\n"
     ]
    }
   ],
   "source": [
    "import pandas as pd\n",
    "df = pd.read_csv('Netology_A_B-testing_HW_1.csv')\n",
    "print(df.shape) #количество стр. и столб.\n",
    "df.info()\n",
    "#df = df.apply(pd.to_numeric,errors='coerce') #меняем тип данных на числовые\n",
    "#df.describe().T"
   ]
  },
  {
   "cell_type": "code",
   "execution_count": 2,
   "id": "c10ac6d4",
   "metadata": {},
   "outputs": [
    {
     "ename": "NameError",
     "evalue": "name 'f' is not defined",
     "output_type": "error",
     "traceback": [
      "\u001b[1;31m---------------------------------------------------------------------------\u001b[0m",
      "\u001b[1;31mNameError\u001b[0m                                 Traceback (most recent call last)",
      "\u001b[1;32m<ipython-input-2-d14b21235e3f>\u001b[0m in \u001b[0;36m<module>\u001b[1;34m\u001b[0m\n\u001b[1;32m----> 1\u001b[1;33m \u001b[0mf\u001b[0m\u001b[1;33m.\u001b[0m\u001b[0mhead\u001b[0m\u001b[1;33m(\u001b[0m\u001b[1;36m10\u001b[0m\u001b[1;33m)\u001b[0m\u001b[1;33m.\u001b[0m\u001b[0mT\u001b[0m\u001b[1;33m\u001b[0m\u001b[1;33m\u001b[0m\u001b[0m\n\u001b[0m",
      "\u001b[1;31mNameError\u001b[0m: name 'f' is not defined"
     ]
    }
   ],
   "source": [
    "f.head(10).T"
   ]
  },
  {
   "cell_type": "code",
   "execution_count": 3,
   "id": "e8cc25ff",
   "metadata": {},
   "outputs": [
    {
     "data": {
      "text/html": [
       "<div>\n",
       "<style scoped>\n",
       "    .dataframe tbody tr th:only-of-type {\n",
       "        vertical-align: middle;\n",
       "    }\n",
       "\n",
       "    .dataframe tbody tr th {\n",
       "        vertical-align: top;\n",
       "    }\n",
       "\n",
       "    .dataframe thead th {\n",
       "        text-align: right;\n",
       "    }\n",
       "</style>\n",
       "<table border=\"1\" class=\"dataframe\">\n",
       "  <thead>\n",
       "    <tr style=\"text-align: right;\">\n",
       "      <th></th>\n",
       "      <th>0</th>\n",
       "      <th>1</th>\n",
       "      <th>2</th>\n",
       "      <th>3</th>\n",
       "      <th>4</th>\n",
       "      <th>5</th>\n",
       "      <th>6</th>\n",
       "      <th>7</th>\n",
       "      <th>8</th>\n",
       "      <th>9</th>\n",
       "    </tr>\n",
       "  </thead>\n",
       "  <tbody>\n",
       "    <tr>\n",
       "      <th>Unnamed: 0</th>\n",
       "      <td>0</td>\n",
       "      <td>1</td>\n",
       "      <td>2</td>\n",
       "      <td>3</td>\n",
       "      <td>4</td>\n",
       "      <td>5</td>\n",
       "      <td>6</td>\n",
       "      <td>7</td>\n",
       "      <td>8</td>\n",
       "      <td>9</td>\n",
       "    </tr>\n",
       "    <tr>\n",
       "      <th>date</th>\n",
       "      <td>2020-05-21</td>\n",
       "      <td>2020-05-23</td>\n",
       "      <td>2020-05-20</td>\n",
       "      <td>2020-05-19</td>\n",
       "      <td>2020-05-23</td>\n",
       "      <td>2020-05-21</td>\n",
       "      <td>2020-05-24</td>\n",
       "      <td>2020-05-22</td>\n",
       "      <td>2020-05-23</td>\n",
       "      <td>2020-05-23</td>\n",
       "    </tr>\n",
       "    <tr>\n",
       "      <th>user_id</th>\n",
       "      <td>867689</td>\n",
       "      <td>752172</td>\n",
       "      <td>486559</td>\n",
       "      <td>304024</td>\n",
       "      <td>139420</td>\n",
       "      <td>139455</td>\n",
       "      <td>416988</td>\n",
       "      <td>682337</td>\n",
       "      <td>931492</td>\n",
       "      <td>662775</td>\n",
       "    </tr>\n",
       "    <tr>\n",
       "      <th>hour</th>\n",
       "      <td>12</td>\n",
       "      <td>5</td>\n",
       "      <td>15</td>\n",
       "      <td>0</td>\n",
       "      <td>0</td>\n",
       "      <td>5</td>\n",
       "      <td>0</td>\n",
       "      <td>2</td>\n",
       "      <td>20</td>\n",
       "      <td>17</td>\n",
       "    </tr>\n",
       "    <tr>\n",
       "      <th>app_opened</th>\n",
       "      <td>1</td>\n",
       "      <td>1</td>\n",
       "      <td>1</td>\n",
       "      <td>1</td>\n",
       "      <td>1</td>\n",
       "      <td>1</td>\n",
       "      <td>1</td>\n",
       "      <td>1</td>\n",
       "      <td>1</td>\n",
       "      <td>1</td>\n",
       "    </tr>\n",
       "    <tr>\n",
       "      <th>price_seen</th>\n",
       "      <td>1</td>\n",
       "      <td>1</td>\n",
       "      <td>1</td>\n",
       "      <td>1</td>\n",
       "      <td>1</td>\n",
       "      <td>0</td>\n",
       "      <td>1</td>\n",
       "      <td>1</td>\n",
       "      <td>0</td>\n",
       "      <td>1</td>\n",
       "    </tr>\n",
       "    <tr>\n",
       "      <th>order_made</th>\n",
       "      <td>1</td>\n",
       "      <td>1</td>\n",
       "      <td>1</td>\n",
       "      <td>1</td>\n",
       "      <td>1</td>\n",
       "      <td>0</td>\n",
       "      <td>1</td>\n",
       "      <td>1</td>\n",
       "      <td>0</td>\n",
       "      <td>1</td>\n",
       "    </tr>\n",
       "    <tr>\n",
       "      <th>surge</th>\n",
       "      <td>no surge</td>\n",
       "      <td>no surge</td>\n",
       "      <td>no surge</td>\n",
       "      <td>no surge</td>\n",
       "      <td>no surge</td>\n",
       "      <td>no surge</td>\n",
       "      <td>no surge</td>\n",
       "      <td>no surge</td>\n",
       "      <td>no surge</td>\n",
       "      <td>surge</td>\n",
       "    </tr>\n",
       "    <tr>\n",
       "      <th>ride_completed</th>\n",
       "      <td>1</td>\n",
       "      <td>1</td>\n",
       "      <td>1</td>\n",
       "      <td>1</td>\n",
       "      <td>1</td>\n",
       "      <td>0</td>\n",
       "      <td>0</td>\n",
       "      <td>1</td>\n",
       "      <td>0</td>\n",
       "      <td>1</td>\n",
       "    </tr>\n",
       "    <tr>\n",
       "      <th>user_cancelled</th>\n",
       "      <td>0</td>\n",
       "      <td>0</td>\n",
       "      <td>0</td>\n",
       "      <td>0</td>\n",
       "      <td>0</td>\n",
       "      <td>0</td>\n",
       "      <td>0</td>\n",
       "      <td>0</td>\n",
       "      <td>0</td>\n",
       "      <td>0</td>\n",
       "    </tr>\n",
       "    <tr>\n",
       "      <th>age</th>\n",
       "      <td>20</td>\n",
       "      <td>37</td>\n",
       "      <td>47</td>\n",
       "      <td>59</td>\n",
       "      <td>19</td>\n",
       "      <td>60</td>\n",
       "      <td>65</td>\n",
       "      <td>40</td>\n",
       "      <td>25</td>\n",
       "      <td>48</td>\n",
       "    </tr>\n",
       "    <tr>\n",
       "      <th>os</th>\n",
       "      <td>iOS</td>\n",
       "      <td>Android</td>\n",
       "      <td>Android</td>\n",
       "      <td>Android</td>\n",
       "      <td>Android</td>\n",
       "      <td>Android</td>\n",
       "      <td>iOS</td>\n",
       "      <td>Android</td>\n",
       "      <td>iOS</td>\n",
       "      <td>Android</td>\n",
       "    </tr>\n",
       "    <tr>\n",
       "      <th>city_center_order</th>\n",
       "      <td>0</td>\n",
       "      <td>1</td>\n",
       "      <td>0</td>\n",
       "      <td>1</td>\n",
       "      <td>0</td>\n",
       "      <td>1</td>\n",
       "      <td>1</td>\n",
       "      <td>1</td>\n",
       "      <td>0</td>\n",
       "      <td>1</td>\n",
       "    </tr>\n",
       "    <tr>\n",
       "      <th>order_class</th>\n",
       "      <td>business</td>\n",
       "      <td>economy</td>\n",
       "      <td>comfort</td>\n",
       "      <td>economy</td>\n",
       "      <td>business</td>\n",
       "      <td>comfort</td>\n",
       "      <td>comfort</td>\n",
       "      <td>comfort</td>\n",
       "      <td>economy</td>\n",
       "      <td>comfort</td>\n",
       "    </tr>\n",
       "    <tr>\n",
       "      <th>distance</th>\n",
       "      <td>7.982135</td>\n",
       "      <td>2.908468</td>\n",
       "      <td>7.224614</td>\n",
       "      <td>1.874349</td>\n",
       "      <td>10.704778</td>\n",
       "      <td>NaN</td>\n",
       "      <td>7.535725</td>\n",
       "      <td>9.055344</td>\n",
       "      <td>NaN</td>\n",
       "      <td>4.828326</td>\n",
       "    </tr>\n",
       "    <tr>\n",
       "      <th>rfm</th>\n",
       "      <td>low</td>\n",
       "      <td>high</td>\n",
       "      <td>low</td>\n",
       "      <td>low</td>\n",
       "      <td>medium</td>\n",
       "      <td>low</td>\n",
       "      <td>low</td>\n",
       "      <td>medium</td>\n",
       "      <td>medium</td>\n",
       "      <td>medium</td>\n",
       "    </tr>\n",
       "  </tbody>\n",
       "</table>\n",
       "</div>"
      ],
      "text/plain": [
       "                            0           1           2           3           4  \\\n",
       "Unnamed: 0                  0           1           2           3           4   \n",
       "date               2020-05-21  2020-05-23  2020-05-20  2020-05-19  2020-05-23   \n",
       "user_id                867689      752172      486559      304024      139420   \n",
       "hour                       12           5          15           0           0   \n",
       "app_opened                  1           1           1           1           1   \n",
       "price_seen                  1           1           1           1           1   \n",
       "order_made                  1           1           1           1           1   \n",
       "surge                no surge    no surge    no surge    no surge    no surge   \n",
       "ride_completed              1           1           1           1           1   \n",
       "user_cancelled              0           0           0           0           0   \n",
       "age                        20          37          47          59          19   \n",
       "os                        iOS     Android     Android     Android     Android   \n",
       "city_center_order           0           1           0           1           0   \n",
       "order_class          business     economy     comfort     economy    business   \n",
       "distance             7.982135    2.908468    7.224614    1.874349   10.704778   \n",
       "rfm                       low        high         low         low      medium   \n",
       "\n",
       "                            5           6           7           8           9  \n",
       "Unnamed: 0                  5           6           7           8           9  \n",
       "date               2020-05-21  2020-05-24  2020-05-22  2020-05-23  2020-05-23  \n",
       "user_id                139455      416988      682337      931492      662775  \n",
       "hour                        5           0           2          20          17  \n",
       "app_opened                  1           1           1           1           1  \n",
       "price_seen                  0           1           1           0           1  \n",
       "order_made                  0           1           1           0           1  \n",
       "surge                no surge    no surge    no surge    no surge       surge  \n",
       "ride_completed              0           0           1           0           1  \n",
       "user_cancelled              0           0           0           0           0  \n",
       "age                        60          65          40          25          48  \n",
       "os                    Android         iOS     Android         iOS     Android  \n",
       "city_center_order           1           1           1           0           1  \n",
       "order_class           comfort     comfort     comfort     economy     comfort  \n",
       "distance                  NaN    7.535725    9.055344         NaN    4.828326  \n",
       "rfm                       low         low      medium      medium      medium  "
      ]
     },
     "execution_count": 3,
     "metadata": {},
     "output_type": "execute_result"
    }
   ],
   "source": [
    "df['surge'] = df['surge'].fillna('no surge')# заменяем NaN на 'no surge' в кол.surge\n",
    "df.loc[(df.distance > 0), 'order_made'] = 1 # ставим 1 в кол.'order_made', если в кол.distance есть расстояние\n",
    "df.head(10).T # ОЧИЩЕННЫЙ ДАТАФРЕЙМ !!!"
   ]
  },
  {
   "cell_type": "markdown",
   "id": "287d0602",
   "metadata": {},
   "source": [
    "Среднее значение и медиану для метрик берем через метод describe():\n",
    "\n",
    "1 - Выполненные поездки: Ride_completed -0,62 и 1\n",
    "\n",
    "2 - Ввод данных маршрута: Price_seen -0,73 и 1\n",
    "\n",
    "3 - Дистанция, км: Distance -5,3 и 4,3 соответственно\n",
    "\n",
    "4 - Возраст: age - 40,5 и 40 соответственно"
   ]
  },
  {
   "cell_type": "code",
   "execution_count": 4,
   "id": "23e46181",
   "metadata": {},
   "outputs": [
    {
     "data": {
      "text/html": [
       "<div>\n",
       "<style scoped>\n",
       "    .dataframe tbody tr th:only-of-type {\n",
       "        vertical-align: middle;\n",
       "    }\n",
       "\n",
       "    .dataframe tbody tr th {\n",
       "        vertical-align: top;\n",
       "    }\n",
       "\n",
       "    .dataframe thead th {\n",
       "        text-align: right;\n",
       "    }\n",
       "</style>\n",
       "<table border=\"1\" class=\"dataframe\">\n",
       "  <thead>\n",
       "    <tr style=\"text-align: right;\">\n",
       "      <th></th>\n",
       "      <th>count</th>\n",
       "      <th>mean</th>\n",
       "      <th>std</th>\n",
       "      <th>min</th>\n",
       "      <th>25%</th>\n",
       "      <th>50%</th>\n",
       "      <th>75%</th>\n",
       "      <th>max</th>\n",
       "    </tr>\n",
       "  </thead>\n",
       "  <tbody>\n",
       "    <tr>\n",
       "      <th>Unnamed: 0</th>\n",
       "      <td>101500.0</td>\n",
       "      <td>50749.500000</td>\n",
       "      <td>29300.670499</td>\n",
       "      <td>0.000000</td>\n",
       "      <td>25374.750000</td>\n",
       "      <td>50749.500000</td>\n",
       "      <td>76124.250000</td>\n",
       "      <td>101499.000000</td>\n",
       "    </tr>\n",
       "    <tr>\n",
       "      <th>user_id</th>\n",
       "      <td>101500.0</td>\n",
       "      <td>549874.802207</td>\n",
       "      <td>258600.104176</td>\n",
       "      <td>100093.000000</td>\n",
       "      <td>328223.000000</td>\n",
       "      <td>548827.000000</td>\n",
       "      <td>773051.000000</td>\n",
       "      <td>999978.000000</td>\n",
       "    </tr>\n",
       "    <tr>\n",
       "      <th>hour</th>\n",
       "      <td>101500.0</td>\n",
       "      <td>11.481429</td>\n",
       "      <td>6.917522</td>\n",
       "      <td>0.000000</td>\n",
       "      <td>5.000000</td>\n",
       "      <td>11.000000</td>\n",
       "      <td>17.000000</td>\n",
       "      <td>23.000000</td>\n",
       "    </tr>\n",
       "    <tr>\n",
       "      <th>app_opened</th>\n",
       "      <td>101500.0</td>\n",
       "      <td>1.000000</td>\n",
       "      <td>0.000000</td>\n",
       "      <td>1.000000</td>\n",
       "      <td>1.000000</td>\n",
       "      <td>1.000000</td>\n",
       "      <td>1.000000</td>\n",
       "      <td>1.000000</td>\n",
       "    </tr>\n",
       "    <tr>\n",
       "      <th>price_seen</th>\n",
       "      <td>101500.0</td>\n",
       "      <td>0.900798</td>\n",
       "      <td>0.298934</td>\n",
       "      <td>0.000000</td>\n",
       "      <td>1.000000</td>\n",
       "      <td>1.000000</td>\n",
       "      <td>1.000000</td>\n",
       "      <td>1.000000</td>\n",
       "    </tr>\n",
       "    <tr>\n",
       "      <th>order_made</th>\n",
       "      <td>101500.0</td>\n",
       "      <td>0.900798</td>\n",
       "      <td>0.298934</td>\n",
       "      <td>0.000000</td>\n",
       "      <td>1.000000</td>\n",
       "      <td>1.000000</td>\n",
       "      <td>1.000000</td>\n",
       "      <td>1.000000</td>\n",
       "    </tr>\n",
       "    <tr>\n",
       "      <th>ride_completed</th>\n",
       "      <td>101500.0</td>\n",
       "      <td>0.620365</td>\n",
       "      <td>0.485299</td>\n",
       "      <td>0.000000</td>\n",
       "      <td>0.000000</td>\n",
       "      <td>1.000000</td>\n",
       "      <td>1.000000</td>\n",
       "      <td>1.000000</td>\n",
       "    </tr>\n",
       "    <tr>\n",
       "      <th>user_cancelled</th>\n",
       "      <td>101500.0</td>\n",
       "      <td>0.111025</td>\n",
       "      <td>0.314164</td>\n",
       "      <td>0.000000</td>\n",
       "      <td>0.000000</td>\n",
       "      <td>0.000000</td>\n",
       "      <td>0.000000</td>\n",
       "      <td>1.000000</td>\n",
       "    </tr>\n",
       "    <tr>\n",
       "      <th>age</th>\n",
       "      <td>101500.0</td>\n",
       "      <td>40.471764</td>\n",
       "      <td>13.536322</td>\n",
       "      <td>18.000000</td>\n",
       "      <td>29.000000</td>\n",
       "      <td>40.000000</td>\n",
       "      <td>52.000000</td>\n",
       "      <td>69.000000</td>\n",
       "    </tr>\n",
       "    <tr>\n",
       "      <th>city_center_order</th>\n",
       "      <td>101500.0</td>\n",
       "      <td>0.571675</td>\n",
       "      <td>0.494838</td>\n",
       "      <td>0.000000</td>\n",
       "      <td>0.000000</td>\n",
       "      <td>1.000000</td>\n",
       "      <td>1.000000</td>\n",
       "      <td>1.000000</td>\n",
       "    </tr>\n",
       "    <tr>\n",
       "      <th>distance</th>\n",
       "      <td>91431.0</td>\n",
       "      <td>5.371152</td>\n",
       "      <td>4.118531</td>\n",
       "      <td>0.010946</td>\n",
       "      <td>2.438335</td>\n",
       "      <td>4.279565</td>\n",
       "      <td>7.129814</td>\n",
       "      <td>40.268966</td>\n",
       "    </tr>\n",
       "  </tbody>\n",
       "</table>\n",
       "</div>"
      ],
      "text/plain": [
       "                      count           mean            std            min  \\\n",
       "Unnamed: 0         101500.0   50749.500000   29300.670499       0.000000   \n",
       "user_id            101500.0  549874.802207  258600.104176  100093.000000   \n",
       "hour               101500.0      11.481429       6.917522       0.000000   \n",
       "app_opened         101500.0       1.000000       0.000000       1.000000   \n",
       "price_seen         101500.0       0.900798       0.298934       0.000000   \n",
       "order_made         101500.0       0.900798       0.298934       0.000000   \n",
       "ride_completed     101500.0       0.620365       0.485299       0.000000   \n",
       "user_cancelled     101500.0       0.111025       0.314164       0.000000   \n",
       "age                101500.0      40.471764      13.536322      18.000000   \n",
       "city_center_order  101500.0       0.571675       0.494838       0.000000   \n",
       "distance            91431.0       5.371152       4.118531       0.010946   \n",
       "\n",
       "                             25%            50%            75%            max  \n",
       "Unnamed: 0          25374.750000   50749.500000   76124.250000  101499.000000  \n",
       "user_id            328223.000000  548827.000000  773051.000000  999978.000000  \n",
       "hour                    5.000000      11.000000      17.000000      23.000000  \n",
       "app_opened              1.000000       1.000000       1.000000       1.000000  \n",
       "price_seen              1.000000       1.000000       1.000000       1.000000  \n",
       "order_made              1.000000       1.000000       1.000000       1.000000  \n",
       "ride_completed          0.000000       1.000000       1.000000       1.000000  \n",
       "user_cancelled          0.000000       0.000000       0.000000       1.000000  \n",
       "age                    29.000000      40.000000      52.000000      69.000000  \n",
       "city_center_order       0.000000       1.000000       1.000000       1.000000  \n",
       "distance                2.438335       4.279565       7.129814      40.268966  "
      ]
     },
     "execution_count": 4,
     "metadata": {},
     "output_type": "execute_result"
    }
   ],
   "source": [
    "df.describe().T"
   ]
  },
  {
   "cell_type": "code",
   "execution_count": 5,
   "id": "ddcef064",
   "metadata": {},
   "outputs": [
    {
     "data": {
      "text/plain": [
       "1.0"
      ]
     },
     "execution_count": 5,
     "metadata": {},
     "output_type": "execute_result"
    }
   ],
   "source": [
    "q = df['ride_completed'].quantile(0.95) # 95 - персентиль для ride_completed\n",
    "q"
   ]
  },
  {
   "cell_type": "code",
   "execution_count": 6,
   "id": "e6dd30e5",
   "metadata": {},
   "outputs": [
    {
     "data": {
      "text/plain": [
       "1.0"
      ]
     },
     "execution_count": 6,
     "metadata": {},
     "output_type": "execute_result"
    }
   ],
   "source": [
    "q = df['price_seen'].quantile(0.95) # 95 - персентиль для Price_seen\n",
    "q"
   ]
  },
  {
   "cell_type": "code",
   "execution_count": 7,
   "id": "6265fd7f",
   "metadata": {},
   "outputs": [
    {
     "data": {
      "text/plain": [
       "13.694289876456235"
      ]
     },
     "execution_count": 7,
     "metadata": {},
     "output_type": "execute_result"
    }
   ],
   "source": [
    "q = df['distance'].quantile(0.95) # 95 - персентиль для distance\n",
    "q"
   ]
  },
  {
   "cell_type": "code",
   "execution_count": 8,
   "id": "037d1e7f",
   "metadata": {},
   "outputs": [
    {
     "data": {
      "text/plain": [
       "63.0"
      ]
     },
     "execution_count": 8,
     "metadata": {},
     "output_type": "execute_result"
    }
   ],
   "source": [
    "q = df['age'].quantile(0.95) # 95 - персентиль для age\n",
    "q"
   ]
  },
  {
   "cell_type": "code",
   "execution_count": 9,
   "id": "22e43fee",
   "metadata": {},
   "outputs": [
    {
     "data": {
      "text/plain": [
       "<AxesSubplot:title={'center':'Выполненные поездки'}>"
      ]
     },
     "execution_count": 9,
     "metadata": {},
     "output_type": "execute_result"
    },
    {
     "data": {
      "image/png": "[encoded data removed]",
      "text/plain": [
       "<Figure size 432x288 with 1 Axes>"
      ]
     },
     "metadata": {
      "needs_background": "light"
     },
     "output_type": "display_data"
    }
   ],
   "source": [
    "import matplotlib.pyplot as plt\n",
    "import seaborn as sns\n",
    "df['ride_completed'].plot(kind = 'box',title='Выполненные поездки',grid=True)\n",
    "# Возможно, данную метрику лучше визуализировать другим графиком"
   ]
  },
  {
   "cell_type": "code",
   "execution_count": 10,
   "id": "38a4f482",
   "metadata": {},
   "outputs": [
    {
     "data": {
      "text/plain": [
       "<AxesSubplot:title={'center':'Распределение по возрасту'}>"
      ]
     },
     "execution_count": 10,
     "metadata": {},
     "output_type": "execute_result"
    },
    {
     "data": {
      "image/png": "[encoded data removed]",
      "text/plain": [
       "<Figure size 432x288 with 1 Axes>"
      ]
     },
     "metadata": {
      "needs_background": "light"
     },
     "output_type": "display_data"
    }
   ],
   "source": [
    "df['age'].plot(kind = 'box',title='Распределение по возрасту',grid=True)\n",
    "# на графике видно, что медиана незначительно меньше среднего, распределение ближе к нормальному\n",
    "# со сдвигом к левому краю, значения после 75-персентиля имеют больший разброс чем после 25-персентиля"
   ]
  },
  {
   "cell_type": "code",
   "execution_count": 11,
   "id": "a1fb5459",
   "metadata": {},
   "outputs": [
    {
     "data": {
      "image/png": "[encoded data removed]",
      "text/plain": [
       "<Figure size 576x432 with 1 Axes>"
      ]
     },
     "metadata": {
      "needs_background": "light"
     },
     "output_type": "display_data"
    }
   ],
   "source": [
    "df['age'].plot(kind='hist',bins=25, figsize=(8,6))\n",
    "plt.title('Age') \n",
    "plt.ylabel('Частота') \n",
    "plt.xlabel('Возраст') \n",
    "plt.show()"
   ]
  },
  {
   "cell_type": "code",
   "execution_count": 12,
   "id": "f8cc2b86",
   "metadata": {},
   "outputs": [
    {
     "data": {
      "text/plain": [
       "(array([4548., 2155., 2237., 2269., 2228., 2249., 2212., 2187., 2222.,\n",
       "        2211., 2254., 2267., 2305., 2255., 2160., 2238., 2192., 2139.,\n",
       "        2171., 2161., 2226., 2297., 2279., 2138., 2224., 2320., 2266.,\n",
       "        2301., 2261., 2188., 2270., 2258., 2219., 2320., 2242., 2237.,\n",
       "        2237., 2221., 2278., 2263., 2236.,  739.,  782.,  755.,  838.,\n",
       "         782.,  721.,  737.,  735., 1470.]),\n",
       " array([18.  , 19.02, 20.04, 21.06, 22.08, 23.1 , 24.12, 25.14, 26.16,\n",
       "        27.18, 28.2 , 29.22, 30.24, 31.26, 32.28, 33.3 , 34.32, 35.34,\n",
       "        36.36, 37.38, 38.4 , 39.42, 40.44, 41.46, 42.48, 43.5 , 44.52,\n",
       "        45.54, 46.56, 47.58, 48.6 , 49.62, 50.64, 51.66, 52.68, 53.7 ,\n",
       "        54.72, 55.74, 56.76, 57.78, 58.8 , 59.82, 60.84, 61.86, 62.88,\n",
       "        63.9 , 64.92, 65.94, 66.96, 67.98, 69.  ]),\n",
       " <BarContainer object of 50 artists>)"
      ]
     },
     "execution_count": 12,
     "metadata": {},
     "output_type": "execute_result"
    },
    {
     "data": {
      "image/png": "[encoded data removed]",
      "text/plain": [
       "<Figure size 432x288 with 1 Axes>"
      ]
     },
     "metadata": {
      "needs_background": "light"
     },
     "output_type": "display_data"
    }
   ],
   "source": [
    "plt.hist(df['age'], bins=50)"
   ]
  },
  {
   "cell_type": "code",
   "execution_count": 13,
   "id": "c5687161",
   "metadata": {},
   "outputs": [
    {
     "data": {
      "text/plain": [
       "(array([38533.,     0.,     0.,     0.,     0.,     0.,     0.,     0.,\n",
       "            0.,     0.,     0.,     0.,     0.,     0.,     0.,     0.,\n",
       "            0.,     0.,     0.,     0.,     0.,     0.,     0.,     0.,\n",
       "        62967.]),\n",
       " array([0.  , 0.04, 0.08, 0.12, 0.16, 0.2 , 0.24, 0.28, 0.32, 0.36, 0.4 ,\n",
       "        0.44, 0.48, 0.52, 0.56, 0.6 , 0.64, 0.68, 0.72, 0.76, 0.8 , 0.84,\n",
       "        0.88, 0.92, 0.96, 1.  ]),\n",
       " <BarContainer object of 25 artists>)"
      ]
     },
     "execution_count": 13,
     "metadata": {},
     "output_type": "execute_result"
    },
    {
     "data": {
      "image/png": "[encoded data removed]",
      "text/plain": [
       "<Figure size 432x288 with 1 Axes>"
      ]
     },
     "metadata": {
      "needs_background": "light"
     },
     "output_type": "display_data"
    }
   ],
   "source": [
    "plt.hist(df['ride_completed'], bins=25)"
   ]
  },
  {
   "cell_type": "code",
   "execution_count": 14,
   "id": "73787966",
   "metadata": {},
   "outputs": [
    {
     "data": {
      "text/plain": [
       "<AxesSubplot:title={'center':'Данные поездки введены'}>"
      ]
     },
     "execution_count": 14,
     "metadata": {},
     "output_type": "execute_result"
    },
    {
     "data": {
      "image/png": "[encoded data removed]",
      "text/plain": [
       "<Figure size 432x288 with 1 Axes>"
      ]
     },
     "metadata": {
      "needs_background": "light"
     },
     "output_type": "display_data"
    }
   ],
   "source": [
    "df['price_seen'].plot(kind = 'box',title='Данные поездки введены',grid=True)\n",
    "# Возможно, данную метрику лучше визуализировать другим графиком"
   ]
  },
  {
   "cell_type": "code",
   "execution_count": 15,
   "id": "5afc8a5d",
   "metadata": {},
   "outputs": [
    {
     "data": {
      "text/plain": [
       "(array([10069.,     0.,     0.,     0.,     0.,     0.,     0.,     0.,\n",
       "            0.,     0.,     0.,     0.,     0.,     0.,     0.,     0.,\n",
       "            0.,     0.,     0.,     0.,     0.,     0.,     0.,     0.,\n",
       "        91431.]),\n",
       " array([0.  , 0.04, 0.08, 0.12, 0.16, 0.2 , 0.24, 0.28, 0.32, 0.36, 0.4 ,\n",
       "        0.44, 0.48, 0.52, 0.56, 0.6 , 0.64, 0.68, 0.72, 0.76, 0.8 , 0.84,\n",
       "        0.88, 0.92, 0.96, 1.  ]),\n",
       " <BarContainer object of 25 artists>)"
      ]
     },
     "execution_count": 15,
     "metadata": {},
     "output_type": "execute_result"
    },
    {
     "data": {
      "image/png": "[encoded data removed]",
      "text/plain": [
       "<Figure size 432x288 with 1 Axes>"
      ]
     },
     "metadata": {
      "needs_background": "light"
     },
     "output_type": "display_data"
    }
   ],
   "source": [
    "plt.hist(df['price_seen'], bins=25)"
   ]
  },
  {
   "cell_type": "code",
   "execution_count": 16,
   "id": "ead87202",
   "metadata": {},
   "outputs": [
    {
     "data": {
      "text/plain": [
       "<AxesSubplot:title={'center':'Дальность поездки, км'}>"
      ]
     },
     "execution_count": 16,
     "metadata": {},
     "output_type": "execute_result"
    },
    {
     "data": {
      "image/png": "[encoded data removed]",
      "text/plain": [
       "<Figure size 432x288 with 1 Axes>"
      ]
     },
     "metadata": {
      "needs_background": "light"
     },
     "output_type": "display_data"
    }
   ],
   "source": [
    "df['distance'].plot(kind = 'box',title='Дальность поездки, км',grid=True)\n",
    "# на графике видно медиану-в районе 4, которая немного меньше среднего, распределение ближе к Гамме-распределению\n",
    "# значения после 75-персентиля имеют больший разброс чем после 25-персентиля,\n",
    "# есть много выбросов (поездки на далекие расстояния)"
   ]
  },
  {
   "cell_type": "code",
   "execution_count": 17,
   "id": "19e3f788",
   "metadata": {},
   "outputs": [
    {
     "data": {
      "text/plain": [
       "(array([1.2213e+04, 2.1074e+04, 1.8284e+04, 1.3087e+04, 8.6120e+03,\n",
       "        5.8530e+03, 3.9790e+03, 2.7000e+03, 1.8870e+03, 1.3210e+03,\n",
       "        8.6900e+02, 5.7500e+02, 3.7600e+02, 2.2200e+02, 1.7800e+02,\n",
       "        8.0000e+01, 5.1000e+01, 3.2000e+01, 2.4000e+01, 6.0000e+00,\n",
       "        1.0000e+00, 4.0000e+00, 1.0000e+00, 1.0000e+00, 1.0000e+00]),\n",
       " array([1.09464561e-02, 1.62126724e+00, 3.23158802e+00, 4.84190880e+00,\n",
       "        6.45222958e+00, 8.06255036e+00, 9.67287115e+00, 1.12831919e+01,\n",
       "        1.28935127e+01, 1.45038335e+01, 1.61141543e+01, 1.77244751e+01,\n",
       "        1.93347958e+01, 2.09451166e+01, 2.25554374e+01, 2.41657582e+01,\n",
       "        2.57760790e+01, 2.73863997e+01, 2.89967205e+01, 3.06070413e+01,\n",
       "        3.22173621e+01, 3.38276829e+01, 3.54380037e+01, 3.70483244e+01,\n",
       "        3.86586452e+01, 4.02689660e+01]),\n",
       " <BarContainer object of 25 artists>)"
      ]
     },
     "execution_count": 17,
     "metadata": {},
     "output_type": "execute_result"
    },
    {
     "data": {
      "image/png": "[encoded data removed]",
      "text/plain": [
       "<Figure size 432x288 with 1 Axes>"
      ]
     },
     "metadata": {
      "needs_background": "light"
     },
     "output_type": "display_data"
    }
   ],
   "source": [
    "plt.hist(df['distance'], bins=25)"
   ]
  },
  {
   "cell_type": "code",
   "execution_count": 18,
   "id": "06fe377a",
   "metadata": {},
   "outputs": [
    {
     "data": {
      "image/png": "[encoded data removed]",
      "text/plain": [
       "<Figure size 720x432 with 1 Axes>"
      ]
     },
     "metadata": {
      "needs_background": "light"
     },
     "output_type": "display_data"
    }
   ],
   "source": [
    "df['distance'].plot(kind='hist',bins=25, figsize=(10,6),color='g')\n",
    "plt.title('distance') \n",
    "plt.ylabel('Частота') \n",
    "plt.xlabel('Дальность поездки') \n",
    "plt.show()"
   ]
  },
  {
   "cell_type": "code",
   "execution_count": null,
   "id": "265ad282",
   "metadata": {},
   "outputs": [],
   "source": []
  }
 ],
 "metadata": {
  "kernelspec": {
   "display_name": "Python 3",
   "language": "python",
   "name": "python3"
  },
  "language_info": {
   "codemirror_mode": {
    "name": "ipython",
    "version": 3
   },
   "file_extension": ".py",
   "mimetype": "text/x-python",
   "name": "python",
   "nbconvert_exporter": "python",
   "pygments_lexer": "ipython3",
   "version": "3.8.8"
  }
 },
 "nbformat": 4,
 "nbformat_minor": 5
}
