{
 "cells": [
  {
   "cell_type": "markdown",
   "id": "702c7a21",
   "metadata": {},
   "source": [
    " 1. Вам даны результаты проверки двух препаратов. Требуется оценить, есть ли различие в эффекте у этих пациентов.¶ A - результаты для выборки людей получающих препарат А. B - результаты для другой выборки людей, получающих препарат B."
   ]
  },
  {
   "cell_type": "code",
   "execution_count": 2,
   "id": "77b9a412",
   "metadata": {},
   "outputs": [],
   "source": [
    "import pandas as pd\n",
    "import scipy.stats as stats\n",
    "import numpy as np\n",
    "from scipy.stats import mannwhitneyu\n",
    "from scipy.stats import wilcoxon\n",
    "from scipy.stats import f_oneway"
   ]
  },
  {
   "cell_type": "code",
   "execution_count": 5,
   "id": "92adc67d",
   "metadata": {},
   "outputs": [],
   "source": [
    "alpha = 0.05   # Уровень значимости"
   ]
  },
  {
   "cell_type": "code",
   "execution_count": 4,
   "id": "23794e8e",
   "metadata": {},
   "outputs": [],
   "source": [
    "np.random.seed(11)\n",
    "A = stats.norm.rvs(scale=30,loc=11,size=100)\n",
    "B = A+stats.norm.rvs(scale=54,loc=11,size=100)"
   ]
  },
  {
   "cell_type": "code",
   "execution_count": 6,
   "id": "f0c0d56a",
   "metadata": {},
   "outputs": [
    {
     "name": "stdout",
     "output_type": "stream",
     "text": [
      "Statistics=1930.000, p=0.041\n",
      "Different distribution (reject H0)\n"
     ]
    }
   ],
   "source": [
    "stat2, p2 = wilcoxon(A, B)\n",
    "print('Statistics=%.3f, p=%.3f' % (stat2, p2))\n",
    "\n",
    "if p2 > alpha:\n",
    "    print('Same distribution (fail to reject H0)')\n",
    "else:\n",
    "    print('Different distribution (reject H0)')"
   ]
  },
  {
   "cell_type": "markdown",
   "id": "36321948",
   "metadata": {},
   "source": [
    "Следовательно есть различие в эффекте у пациентов"
   ]
  },
  {
   "cell_type": "markdown",
   "id": "043d87bb",
   "metadata": {},
   "source": [
    "1. Вам даны результаты проверки двух препаратов. Требуется оценить, есть ли различие в эффекте у этих пациентов. А - те же люди, но без препарата. B - выборка получающая препарат B"
   ]
  },
  {
   "cell_type": "code",
   "execution_count": 8,
   "id": "29253eb5",
   "metadata": {},
   "outputs": [
    {
     "name": "stdout",
     "output_type": "stream",
     "text": [
      "Statistics=4343.000, p=0.054\n",
      "Same distribution (fail to reject H0)\n"
     ]
    }
   ],
   "source": [
    "np.random.seed(11)\n",
    "A1 = stats.norm.rvs(scale=30,loc=11,size=100)\n",
    "B1 = A + stats.norm.rvs(scale=54,loc=11,size=100)\n",
    "\n",
    "stat, p1 = mannwhitneyu(A1, B1)\n",
    "print('Statistics=%.3f, p=%.3f' % (stat, p1))\n",
    "\n",
    "if p1 > alpha:\n",
    "    print('Same distribution (fail to reject H0)')\n",
    "else:\n",
    "    print('Different distribution (отвергнуть H0)')"
   ]
  },
  {
   "cell_type": "markdown",
   "id": "63194236",
   "metadata": {},
   "source": [
    "Следовательно нет эффекта"
   ]
  },
  {
   "cell_type": "markdown",
   "id": "10375bd1",
   "metadata": {},
   "source": [
    "1. Допустим вы решили устроить дачный эксперимент. Берем и поливаем одни огурцы водой, другие огурцы водой с удобнением, третью группу огурцов будем поливать минералкой. Используя дисперсионный ананлиз, сделайте выводы о распредлениях результатов. Если ли эффект от удобрения по сравнению с минералкой?"
   ]
  },
  {
   "cell_type": "code",
   "execution_count": 9,
   "id": "bc8d0104",
   "metadata": {},
   "outputs": [],
   "source": [
    "water = [1,2,3,4,2,4,2,4,5,2,3,4,2,1,3,4,3,2,5,1]\n",
    "nutri = [1,2,4,6,5,6,7,5,4,5,6,7,4,3,5,5,6,5,4,3,5]\n",
    "mineral =[2,1,1,3,2,4,2,4,5,4,3,2,3,2,3,1,3,4,5,1,4]"
   ]
  },
  {
   "cell_type": "code",
   "execution_count": 10,
   "id": "ccdacf2c",
   "metadata": {},
   "outputs": [
    {
     "name": "stdout",
     "output_type": "stream",
     "text": [
      "12.525963044834192 2.9240047906326866e-05\n",
      "Different distribution (reject H0)\n"
     ]
    }
   ],
   "source": [
    "F, p = f_oneway(water, nutri, mineral)\n",
    "print(F, p)\n",
    "\n",
    "if p > alpha:\n",
    "    print('Same distribution (fail to reject H0)')\n",
    "else:\n",
    "    print('Different distribution (reject H0)')"
   ]
  },
  {
   "cell_type": "markdown",
   "id": "8a232906",
   "metadata": {},
   "source": [
    "следовательно можно сделать вывод, что есть эффект от минералки"
   ]
  }
 ],
 "metadata": {
  "kernelspec": {
   "display_name": "Python 3",
   "language": "python",
   "name": "python3"
  },
  "language_info": {
   "codemirror_mode": {
    "name": "ipython",
    "version": 3
   },
   "file_extension": ".py",
   "mimetype": "text/x-python",
   "name": "python",
   "nbconvert_exporter": "python",
   "pygments_lexer": "ipython3",
   "version": "3.8.8"
  }
 },
 "nbformat": 4,
 "nbformat_minor": 5
}
