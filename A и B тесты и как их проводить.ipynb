{
 "cells": [
  {
   "cell_type": "markdown",
   "id": "702c7a21",
   "metadata": {},
   "source": [
    " 1. Вам даны результаты проверки двух препаратов. Требуется оценить, есть ли различие в эффекте у этих пациентов.¶ A - результаты для выборки людей получающих препарат А. B - результаты для другой выборки людей, получающих препарат B."
   ]
  },
  {
   "cell_type": "code",
   "execution_count": 2,
   "id": "77b9a412",
   "metadata": {},
   "outputs": [],
   "source": [
    "import pandas as pd\n",
    "import scipy.stats as stats\n",
    "import numpy as np\n",
    "from scipy.stats import mannwhitneyu\n",
    "from scipy.stats import wilcoxon\n",
    "from scipy.stats import f_oneway\n",
    "import matplotlib.pyplot as plt  #Пакет для построения графиков и прочего\n",
    "import seaborn as sns"
   ]
  },
  {
   "cell_type": "code",
   "execution_count": 3,
   "id": "92adc67d",
   "metadata": {},
   "outputs": [],
   "source": [
    "alpha = 0.05   # Уровень значимости"
   ]
  },
  {
   "cell_type": "code",
   "execution_count": 4,
   "id": "23794e8e",
   "metadata": {},
   "outputs": [],
   "source": [
    "np.random.seed(11)\n",
    "A = stats.norm.rvs(scale=30,loc=11,size=100)\n",
    "B = A+stats.norm.rvs(scale=54,loc=11,size=100)"
   ]
  },
  {
   "cell_type": "code",
   "execution_count": 6,
   "id": "f0c0d56a",
   "metadata": {},
   "outputs": [
    {
     "name": "stdout",
     "output_type": "stream",
     "text": [
      "Statistics=1930.000, p=0.041\n",
      "Different distribution (reject H0)\n"
     ]
    }
   ],
   "source": [
    "stat2, p2 = wilcoxon(A, B)\n",
    "print('Statistics=%.3f, p=%.3f' % (stat2, p2))\n",
    "\n",
    "if p2 > alpha:\n",
    "    print('Same distribution (fail to reject H0)')\n",
    "else:\n",
    "    print('Different distribution (reject H0)')"
   ]
  },
  {
   "cell_type": "markdown",
   "id": "36321948",
   "metadata": {},
   "source": [
    "Следовательно есть различие в эффекте у пациентов"
   ]
  },
  {
   "cell_type": "markdown",
   "id": "043d87bb",
   "metadata": {},
   "source": [
    "1. Вам даны результаты проверки двух препаратов. Требуется оценить, есть ли различие в эффекте у этих пациентов. А - те же люди, но без препарата. B - выборка получающая препарат B"
   ]
  },
  {
   "cell_type": "code",
   "execution_count": 8,
   "id": "29253eb5",
   "metadata": {},
   "outputs": [
    {
     "name": "stdout",
     "output_type": "stream",
     "text": [
      "Statistics=4343.000, p=0.054\n",
      "Same distribution (fail to reject H0)\n"
     ]
    }
   ],
   "source": [
    "np.random.seed(11)\n",
    "A1 = stats.norm.rvs(scale=30,loc=11,size=100)\n",
    "B1 = A + stats.norm.rvs(scale=54,loc=11,size=100)\n",
    "\n",
    "stat, p1 = mannwhitneyu(A1, B1)\n",
    "print('Statistics=%.3f, p=%.3f' % (stat, p1))\n",
    "\n",
    "if p1 > alpha:\n",
    "    print('Same distribution (fail to reject H0)')\n",
    "else:\n",
    "    print('Different distribution (отвергнуть H0)')"
   ]
  },
  {
   "cell_type": "markdown",
   "id": "63194236",
   "metadata": {},
   "source": [
    "Следовательно нет эффекта"
   ]
  },
  {
   "cell_type": "markdown",
   "id": "10375bd1",
   "metadata": {},
   "source": [
    "1. Допустим вы решили устроить дачный эксперимент. Берем и поливаем одни огурцы водой, другие огурцы водой с удобнением, третью группу огурцов будем поливать минералкой. Используя дисперсионный ананлиз, сделайте выводы о распредлениях результатов. Если ли эффект от удобрения по сравнению с минералкой?"
   ]
  },
  {
   "cell_type": "code",
   "execution_count": 9,
   "id": "bc8d0104",
   "metadata": {},
   "outputs": [],
   "source": [
    "water = [1,2,3,4,2,4,2,4,5,2,3,4,2,1,3,4,3,2,5,1]\n",
    "nutri = [1,2,4,6,5,6,7,5,4,5,6,7,4,3,5,5,6,5,4,3,5]\n",
    "mineral =[2,1,1,3,2,4,2,4,5,4,3,2,3,2,3,1,3,4,5,1,4]"
   ]
  },
  {
   "cell_type": "code",
   "execution_count": 10,
   "id": "ccdacf2c",
   "metadata": {},
   "outputs": [
    {
     "name": "stdout",
     "output_type": "stream",
     "text": [
      "12.525963044834192 2.9240047906326866e-05\n",
      "Different distribution (reject H0)\n"
     ]
    }
   ],
   "source": [
    "F, p = f_oneway(water, nutri, mineral)\n",
    "print(F, p)\n",
    "\n",
    "if p > alpha:\n",
    "    print('Same distribution (fail to reject H0)')\n",
    "else:\n",
    "    print('Different distribution (reject H0)')"
   ]
  },
  {
   "cell_type": "markdown",
   "id": "8a232906",
   "metadata": {},
   "source": [
    "следовательно можно сделать вывод, что есть эффект от минералки"
   ]
  },
  {
   "cell_type": "markdown",
   "id": "089f3872",
   "metadata": {},
   "source": [
    "\n",
    "###Cookie Cats - чрезвычайно популярная мобильная игра-головоломка, разработанная Tactile Entertainment. Это классическая игра-головоломка в стиле «соедините три», в которой игрок должен соединять плитки одного цвета, чтобы очистить поле и выиграть уровень. Здесь также есть поющие кошки. Посмотрите эту короткую демонстрацию:\n",
    "\n",
    "\n",
    "\n",
    "\n",
    "По мере прохождения уровней игры игроки время от времени сталкиваются с воротами, которые заставляют их ждать нетривиальное количество времени или совершать покупки в приложении, чтобы продолжить. Помимо стимулирования покупок в приложении, эти ворота служат важной цели - дать игрокам вынужденный перерыв в игре, что, как мы надеемся, приведет к увеличению и продлению удовольствия от игры.\n",
    "Но где ставить ворота? Первоначально первые ворота были размещены на уровне 30. В этом проекте вам предлагается проанализировать AB-тест, в котором создатели переместили первые ворота в Cookie Cats с 30 уровня на уровень 40. В частности, вам надо рассмотрим влияние A/B теста на удержание игроков."
   ]
  },
  {
   "cell_type": "markdown",
   "id": "ae779cbf",
   "metadata": {},
   "source": [
    "##Данные A/B тестирования"
   ]
  },
  {
   "cell_type": "code",
   "execution_count": 4,
   "id": "55679366",
   "metadata": {},
   "outputs": [
    {
     "data": {
      "text/html": [
       "<div>\n",
       "<style scoped>\n",
       "    .dataframe tbody tr th:only-of-type {\n",
       "        vertical-align: middle;\n",
       "    }\n",
       "\n",
       "    .dataframe tbody tr th {\n",
       "        vertical-align: top;\n",
       "    }\n",
       "\n",
       "    .dataframe thead th {\n",
       "        text-align: right;\n",
       "    }\n",
       "</style>\n",
       "<table border=\"1\" class=\"dataframe\">\n",
       "  <thead>\n",
       "    <tr style=\"text-align: right;\">\n",
       "      <th></th>\n",
       "      <th>userid</th>\n",
       "      <th>version</th>\n",
       "      <th>sum_gamerounds</th>\n",
       "      <th>retention_1</th>\n",
       "      <th>retention_7</th>\n",
       "    </tr>\n",
       "  </thead>\n",
       "  <tbody>\n",
       "    <tr>\n",
       "      <th>0</th>\n",
       "      <td>116</td>\n",
       "      <td>gate_30</td>\n",
       "      <td>3</td>\n",
       "      <td>False</td>\n",
       "      <td>False</td>\n",
       "    </tr>\n",
       "    <tr>\n",
       "      <th>1</th>\n",
       "      <td>337</td>\n",
       "      <td>gate_30</td>\n",
       "      <td>38</td>\n",
       "      <td>True</td>\n",
       "      <td>False</td>\n",
       "    </tr>\n",
       "    <tr>\n",
       "      <th>2</th>\n",
       "      <td>377</td>\n",
       "      <td>gate_40</td>\n",
       "      <td>165</td>\n",
       "      <td>True</td>\n",
       "      <td>False</td>\n",
       "    </tr>\n",
       "    <tr>\n",
       "      <th>3</th>\n",
       "      <td>483</td>\n",
       "      <td>gate_40</td>\n",
       "      <td>1</td>\n",
       "      <td>False</td>\n",
       "      <td>False</td>\n",
       "    </tr>\n",
       "    <tr>\n",
       "      <th>4</th>\n",
       "      <td>488</td>\n",
       "      <td>gate_40</td>\n",
       "      <td>179</td>\n",
       "      <td>True</td>\n",
       "      <td>True</td>\n",
       "    </tr>\n",
       "  </tbody>\n",
       "</table>\n",
       "</div>"
      ],
      "text/plain": [
       "   userid  version  sum_gamerounds  retention_1  retention_7\n",
       "0     116  gate_30               3        False        False\n",
       "1     337  gate_30              38         True        False\n",
       "2     377  gate_40             165         True        False\n",
       "3     483  gate_40               1        False        False\n",
       "4     488  gate_40             179         True         True"
      ]
     },
     "execution_count": 4,
     "metadata": {},
     "output_type": "execute_result"
    }
   ],
   "source": [
    "cookie_cats = 'https://raw.githubusercontent.com/a-milenkin/datasets_for_t-tests/main/cookie_cats.csv'\n",
    "\n",
    "data = pd.read_csv(cookie_cats, error_bad_lines=False)  # Откроем датасет\n",
    "data.head()"
   ]
  },
  {
   "cell_type": "markdown",
   "id": "0af85fec",
   "metadata": {},
   "source": [
    "Данные получены от 90 189 игроков, которые установили игру во время проведения AB-теста. Переменные:\n",
    "\n",
    "userid - уникальный номер, идентифицирующий каждого игрока.\n",
    "\n",
    "version - был ли игрок помещен в контрольную группу (gate_30 - ворота на уровне 30) или в тестовую группу (gate_40 - ворота на уровне 40).\n",
    "\n",
    "sum_gamerounds - количество игровых раундов, сыгранных игроком в течение первой недели после установки\n",
    "\n",
    "retention_1 - проигрыватель вернулся и поиграл через 1 день после установки?\n",
    "retention_7 - проигрыватель вернулся и играл через 7 дней после установки?\n",
    "Когда игрок устанавливал игру, ему случайным образом назначали gate_30 или gate_40."
   ]
  },
  {
   "cell_type": "markdown",
   "id": "b587c883",
   "metadata": {},
   "source": [
    "Задание: провести анализ данных и сделать выводы о лучшем месте для установки ворот. Замечание: приведенных вспомогательных фрагментов кода не хватает для ответа на вопрос. Делать выводы необходимо опираясь на статистические тесты, разобранные в лекции. Большим плюсом будет построение визуализиции для подтверждения ваших выводом. Рекомендую использовать `seaborn` c его `sns.boxplot`/`sns.carplot`, `sns.barplot`, но можно обойтись и обычном `matplotlib`"
   ]
  },
  {
   "cell_type": "code",
   "execution_count": 5,
   "id": "f21641f0",
   "metadata": {},
   "outputs": [
    {
     "data": {
      "text/html": [
       "<div>\n",
       "<style scoped>\n",
       "    .dataframe tbody tr th:only-of-type {\n",
       "        vertical-align: middle;\n",
       "    }\n",
       "\n",
       "    .dataframe tbody tr th {\n",
       "        vertical-align: top;\n",
       "    }\n",
       "\n",
       "    .dataframe thead th {\n",
       "        text-align: right;\n",
       "    }\n",
       "</style>\n",
       "<table border=\"1\" class=\"dataframe\">\n",
       "  <thead>\n",
       "    <tr style=\"text-align: right;\">\n",
       "      <th></th>\n",
       "      <th>userid</th>\n",
       "      <th>sum_gamerounds</th>\n",
       "      <th>retention_1</th>\n",
       "      <th>retention_7</th>\n",
       "    </tr>\n",
       "    <tr>\n",
       "      <th>version</th>\n",
       "      <th></th>\n",
       "      <th></th>\n",
       "      <th></th>\n",
       "      <th></th>\n",
       "    </tr>\n",
       "  </thead>\n",
       "  <tbody>\n",
       "    <tr>\n",
       "      <th>gate_30</th>\n",
       "      <td>44700</td>\n",
       "      <td>44700</td>\n",
       "      <td>44700</td>\n",
       "      <td>44700</td>\n",
       "    </tr>\n",
       "    <tr>\n",
       "      <th>gate_40</th>\n",
       "      <td>45489</td>\n",
       "      <td>45489</td>\n",
       "      <td>45489</td>\n",
       "      <td>45489</td>\n",
       "    </tr>\n",
       "  </tbody>\n",
       "</table>\n",
       "</div>"
      ],
      "text/plain": [
       "         userid  sum_gamerounds  retention_1  retention_7\n",
       "version                                                  \n",
       "gate_30   44700           44700        44700        44700\n",
       "gate_40   45489           45489        45489        45489"
      ]
     },
     "execution_count": 5,
     "metadata": {},
     "output_type": "execute_result"
    }
   ],
   "source": [
    "#Сгрупируем результаты теста по версиям игры.\n",
    "data.groupby('version').count()"
   ]
  },
  {
   "cell_type": "markdown",
   "id": "81e9fdf8",
   "metadata": {},
   "source": [
    "#Ваши выводы"
   ]
  },
  {
   "cell_type": "code",
   "execution_count": 7,
   "id": "6cc1434a",
   "metadata": {},
   "outputs": [
    {
     "data": {
      "image/png": "[encoded data removed]",
      "text/plain": [
       "<Figure size 1080x720 with 1 Axes>"
      ]
     },
     "metadata": {
      "needs_background": "light"
     },
     "output_type": "display_data"
    }
   ],
   "source": [
    "v_30 = data.loc[data.version == 'gate_30']\n",
    "v_40 = data.loc[data.version == 'gate_40']\n",
    "v_30 = v_30.drop(v_30.loc[v_30.sum_gamerounds > 200].index)\n",
    "v_40 = v_40.drop(v_40.loc[v_40.sum_gamerounds > 200].index)\n",
    "\n",
    "\n",
    "bins = 200\n",
    "plt.figure(figsize=(15, 10))\n",
    "plt.hist(v_30['sum_gamerounds'], bins=bins, alpha=1, edgecolor='black', label='gate 30')\n",
    "plt.hist(v_40['sum_gamerounds'], bins=bins, alpha=0.7, label='gate 40')\n",
    "plt.legend(loc='upper right', bbox_to_anchor=(0.45, 0.35))\n",
    "plt.show()"
   ]
  },
  {
   "cell_type": "markdown",
   "id": "2d40ba7e",
   "metadata": {},
   "source": [
    "Мы видим, что после некоторого количества раундов количество игроков стремительно снижается, после начинает снижаться постепенно. Предположу, что резкий спад происходит как раз у \"ворот\""
   ]
  },
  {
   "cell_type": "code",
   "execution_count": 7,
   "id": "d3cb7fc6",
   "metadata": {},
   "outputs": [
    {
     "data": {
      "text/plain": [
       "Text(0.5, 0, '# Game rounds')"
      ]
     },
     "execution_count": 7,
     "metadata": {},
     "output_type": "execute_result"
    },
    {
     "data": {
      "image/png": "[encoded data removed]",
      "text/plain": [
       "<Figure size 720x432 with 1 Axes>"
      ]
     },
     "metadata": {
      "needs_background": "light"
     },
     "output_type": "display_data"
    }
   ],
   "source": [
    "# Построим график распределения игроков, сыгравших от 0 до 100 игровых раундов в течение своей первой недели игры.\n",
    "plot_df = data.groupby('sum_gamerounds')['userid'].count()\n",
    "%matplotlib inline\n",
    "\n",
    "ax = plot_df[:100].plot(figsize=(10,6))\n",
    "ax.set_title(\"The number of players that played 0-100 game rounds during the first week\")\n",
    "ax.set_ylabel(\"Number of Players\")\n",
    "ax.set_xlabel('# Game rounds')"
   ]
  },
  {
   "cell_type": "code",
   "execution_count": 8,
   "id": "b66dc4c8",
   "metadata": {},
   "outputs": [
    {
     "data": {
      "text/plain": [
       "<AxesSubplot:ylabel='Density'>"
      ]
     },
     "execution_count": 8,
     "metadata": {},
     "output_type": "execute_result"
    },
    {
     "data": {
      "image/png": "[encoded data removed]",
      "text/plain": [
       "<Figure size 432x288 with 1 Axes>"
      ]
     },
     "metadata": {
      "needs_background": "light"
     },
     "output_type": "display_data"
    }
   ],
   "source": [
    "# Создание списка загрузочных средств для каждой AB-группы\n",
    "boot_1d = []\n",
    "for i in range(1000):\n",
    "    boot_mean = data.sample(frac = 1,replace = True).groupby('version')['retention_7'].mean()  #retention_7\n",
    "    boot_1d.append(boot_mean)\n",
    "    \n",
    "# Преобразование списка в DataFrame\n",
    "boot_1d = pd.DataFrame(boot_1d)\n",
    "    \n",
    "# График оценки плотности ядра для загрузочных дистрибутивов\n",
    "boot_1d.plot(kind='density')"
   ]
  },
  {
   "cell_type": "markdown",
   "id": "4dfd5fbe",
   "metadata": {},
   "source": [
    "Выводы!\n",
    "По этим графикам мы видим, что количество продолжающих игру после прохождения ворот выше для ворот установленных на 30 уровне.\n",
    "Если посмотреть на первый график (сыгравших от 0 до 100 в первую неделю), то в общем можно сказать, что большая часть людей не доходит до ворот в принципе), и после 30 уровня идет плавное равномерное снижение вернувшихся к игре игроков, но в эти данные входят обе группы\n",
    "\n",
    "Но уже по второму графику видно, что количество продолжающих играть после ворот на 30 уровне значимо выше - это значит, что переносить ворота на 40 уровень - плохая идея"
   ]
  },
  {
   "cell_type": "code",
   "execution_count": 9,
   "id": "475f3f96",
   "metadata": {},
   "outputs": [
    {
     "name": "stdout",
     "output_type": "stream",
     "text": [
      "Statistics=0.794, p=0.373\n",
      "Same distribution (fail to reject H0)\n"
     ]
    }
   ],
   "source": [
    "## подтверждение гипотезы тестами \n",
    "# используем дисперсионный анализ, так как выборки не связаны\n",
    "\n",
    "\n",
    "gate_30 = data.loc[data['version'] == 'gate_30']\n",
    "gate_40 = data.loc[data['version'] == 'gate_40']\n",
    "\n",
    "F, p = stats.f_oneway(gate_30[\"sum_gamerounds\"], gate_40[\"sum_gamerounds\"])\n",
    "\n",
    "alpha = 0.05   # Уровень значимости\n",
    "print('Statistics=%.3f, p=%.3f' % (F, p))\n",
    "\n",
    "if p > alpha:\n",
    "    print('Same distribution (fail to reject H0)')\n",
    "else:\n",
    "    print('Different distribution (reject H0)')"
   ]
  },
  {
   "cell_type": "code",
   "execution_count": 10,
   "id": "e8dd3b96",
   "metadata": {},
   "outputs": [
    {
     "data": {
      "text/plain": [
       "(0.8854374331270672, 0.37592438409326223)"
      ]
     },
     "execution_count": 10,
     "metadata": {},
     "output_type": "execute_result"
    }
   ],
   "source": [
    "# выборки две, можем применить t-критерий Стьюдента и проверить наше предположение\n",
    "t, p_value = stats.ttest_ind(a=gate_30[\"sum_gamerounds\"], b=gate_40[\"sum_gamerounds\"], equal_var=False)\n",
    "t, p_value"
   ]
  },
  {
   "cell_type": "markdown",
   "id": "8a215898",
   "metadata": {},
   "source": [
    "По результатам теста видно, что статистически значимой разницы между выборками нет, но учитывая, что значение t-параметра положительно, можем сказать, что есть некоторое положительное отклонение в сторону выборки gate_30 и даже при таком минимальном различии перенос ворот с 30 уровня не будет иметь положительного результата."
   ]
  },
  {
   "cell_type": "markdown",
   "id": "513624e8",
   "metadata": {},
   "source": [
    "## Покемоны и AB-тестирование\n",
    "(реальный кейс собеседования на позицию Аналитика).\n",
    "\n",
    "Описание задачи\n",
    "banner\n",
    "\n",
    "Покемоны - это маленькие существа, которые сражаются друг с другом на соревнованиях. Все покемоны имеют разные характеристики (сила атаки, защиты и т. д.) И относятся к одному или двум так называемым классам (вода, огонь и т. д.). Профессор Оук является изобретателем Pokedex, портативного устройства, которое хранит информацию обо всех существующих покемонах. Как его ведущий специалист по данным, Вы только что получили от него запрос с просьбой осуществить аналитику данных на всех устройствах Pokedex.\n",
    "\n",
    "Описание набора данных\n",
    "Профессор Оук скопировал все содержимое память одного устройства Pokedex, в результате чего получился набор данных, с которым Вы будете работать в этой задаче. В этом файле каждая строка представляет характеристики одного покемона:\n",
    "\n",
    "pid: Numeric - ID покемона\n",
    "HP: Numeric - Очки здоровья\n",
    "Attack: Numeric - Сила обычной атаки\n",
    "Defense: Numeric - Сила обычной защиты\n",
    "Sp. Atk: Numeric - Сила специальной атаки\n",
    "Sp. Def: Numeric - Сила специальной защиты\n",
    "Speed: Numeric - Скорость движений\n",
    "Legendary: Boolean - «True», если покемон редкий\n",
    "Class 1: Categorical - Класс покемона\n",
    "Class 2: Categorical - Класс покемона"
   ]
  },
  {
   "cell_type": "code",
   "execution_count": 3,
   "id": "8687c1a1",
   "metadata": {},
   "outputs": [
    {
     "data": {
      "text/html": [
       "<div>\n",
       "<style scoped>\n",
       "    .dataframe tbody tr th:only-of-type {\n",
       "        vertical-align: middle;\n",
       "    }\n",
       "\n",
       "    .dataframe tbody tr th {\n",
       "        vertical-align: top;\n",
       "    }\n",
       "\n",
       "    .dataframe thead th {\n",
       "        text-align: right;\n",
       "    }\n",
       "</style>\n",
       "<table border=\"1\" class=\"dataframe\">\n",
       "  <thead>\n",
       "    <tr style=\"text-align: right;\">\n",
       "      <th></th>\n",
       "      <th>pid</th>\n",
       "      <th>Name</th>\n",
       "      <th>Class 1</th>\n",
       "      <th>Class 2</th>\n",
       "      <th>HP</th>\n",
       "      <th>Attack</th>\n",
       "      <th>Defense</th>\n",
       "      <th>Sp. Atk</th>\n",
       "      <th>Sp. Def</th>\n",
       "      <th>Speed</th>\n",
       "      <th>Legendary</th>\n",
       "    </tr>\n",
       "  </thead>\n",
       "  <tbody>\n",
       "    <tr>\n",
       "      <th>0</th>\n",
       "      <td>1</td>\n",
       "      <td>Bulbasaur</td>\n",
       "      <td>Grass</td>\n",
       "      <td>Poison</td>\n",
       "      <td>45</td>\n",
       "      <td>49</td>\n",
       "      <td>49</td>\n",
       "      <td>65</td>\n",
       "      <td>65</td>\n",
       "      <td>45</td>\n",
       "      <td>False</td>\n",
       "    </tr>\n",
       "    <tr>\n",
       "      <th>1</th>\n",
       "      <td>2</td>\n",
       "      <td>Ivysaur</td>\n",
       "      <td>Grass</td>\n",
       "      <td>Poison</td>\n",
       "      <td>60</td>\n",
       "      <td>62</td>\n",
       "      <td>63</td>\n",
       "      <td>80</td>\n",
       "      <td>80</td>\n",
       "      <td>60</td>\n",
       "      <td>False</td>\n",
       "    </tr>\n",
       "    <tr>\n",
       "      <th>2</th>\n",
       "      <td>3</td>\n",
       "      <td>Venusaur</td>\n",
       "      <td>Grass</td>\n",
       "      <td>Poison</td>\n",
       "      <td>80</td>\n",
       "      <td>82</td>\n",
       "      <td>83</td>\n",
       "      <td>100</td>\n",
       "      <td>100</td>\n",
       "      <td>80</td>\n",
       "      <td>False</td>\n",
       "    </tr>\n",
       "    <tr>\n",
       "      <th>3</th>\n",
       "      <td>4</td>\n",
       "      <td>Mega Venusaur</td>\n",
       "      <td>Grass</td>\n",
       "      <td>Poison</td>\n",
       "      <td>80</td>\n",
       "      <td>100</td>\n",
       "      <td>123</td>\n",
       "      <td>122</td>\n",
       "      <td>120</td>\n",
       "      <td>80</td>\n",
       "      <td>False</td>\n",
       "    </tr>\n",
       "    <tr>\n",
       "      <th>4</th>\n",
       "      <td>5</td>\n",
       "      <td>Charmander</td>\n",
       "      <td>Fire</td>\n",
       "      <td>NaN</td>\n",
       "      <td>39</td>\n",
       "      <td>52</td>\n",
       "      <td>43</td>\n",
       "      <td>60</td>\n",
       "      <td>50</td>\n",
       "      <td>65</td>\n",
       "      <td>False</td>\n",
       "    </tr>\n",
       "  </tbody>\n",
       "</table>\n",
       "</div>"
      ],
      "text/plain": [
       "   pid           Name Class 1 Class 2  HP  Attack  Defense  Sp. Atk  Sp. Def  \\\n",
       "0    1      Bulbasaur   Grass  Poison  45      49       49       65       65   \n",
       "1    2        Ivysaur   Grass  Poison  60      62       63       80       80   \n",
       "2    3       Venusaur   Grass  Poison  80      82       83      100      100   \n",
       "3    4  Mega Venusaur   Grass  Poison  80     100      123      122      120   \n",
       "4    5     Charmander    Fire     NaN  39      52       43       60       50   \n",
       "\n",
       "   Speed  Legendary  \n",
       "0     45      False  \n",
       "1     60      False  \n",
       "2     80      False  \n",
       "3     80      False  \n",
       "4     65      False  "
      ]
     },
     "execution_count": 3,
     "metadata": {},
     "output_type": "execute_result"
    }
   ],
   "source": [
    "pokemon_path = 'https://raw.githubusercontent.com/a-milenkin/datasets_for_t-tests/main/pokemon.csv'\n",
    "pokemon = pd.read_csv(pokemon_path, error_bad_lines=False)  # Откроем датасет\n",
    "pokemon.head()\n",
    "\n",
    " \n",
    "#Обратите внимание, что у покемона может быть один или два класса. Если у покемона два класса, считается,\n",
    "#что они имеют одинаковую значимость."
   ]
  },
  {
   "cell_type": "markdown",
   "id": "275561f6",
   "metadata": {},
   "source": [
    "## Задание № 1 (Обязательно):\n",
    "Профессор Оук подозревает, что покемоны в классе grass имеют более сильную обычную атаку, чем у покемонов в классе rock. Проверьте, прав ли он, и убедите его в своем выводе статистически.\n",
    "\n",
    "Примечание: если есть покемоны, которые относятся к обоим классам, просто выбросьте их;\n",
    "\n",
    "Вы можете предположить, что распределение обычных атак является нормальным для всех классов покемонов."
   ]
  },
  {
   "cell_type": "code",
   "execution_count": 5,
   "id": "df2e926f",
   "metadata": {},
   "outputs": [],
   "source": [
    "import seaborn as sns\n",
    "attack_grass_pokemon = pokemon[(pokemon['Class 1'] == 'Grass') & (pokemon['Class 2'] != 'Rock') |\n",
    "                        (pokemon['Class 1'] != 'Rock') & (pokemon['Class 2'] == 'Grass')]['Attack']\n",
    "\n",
    "attack_rock_pokemon = pokemon[(pokemon['Class 1'] == 'Rock') & (pokemon['Class 2'] != 'Grass') |\n",
    "                        (pokemon['Class 1'] != 'Grass') & (pokemon['Class 2'] == 'Rock')]['Attack']"
   ]
  },
  {
   "cell_type": "code",
   "execution_count": 6,
   "id": "40905761",
   "metadata": {},
   "outputs": [
    {
     "data": {
      "text/plain": [
       "Ttest_indResult(statistic=-3.729457582692065, pvalue=0.00027333381459902653)"
      ]
     },
     "execution_count": 6,
     "metadata": {},
     "output_type": "execute_result"
    }
   ],
   "source": [
    "from scipy import stats\n",
    "stats.ttest_ind(attack_grass_pokemon, attack_rock_pokemon)"
   ]
  },
  {
   "cell_type": "code",
   "execution_count": 7,
   "id": "7c611a34",
   "metadata": {},
   "outputs": [
    {
     "data": {
      "text/plain": [
       "<matplotlib.legend.Legend at 0x1c868a79f10>"
      ]
     },
     "execution_count": 7,
     "metadata": {},
     "output_type": "execute_result"
    },
    {
     "data": {
      "image/png": "[encoded data removed]",
      "text/plain": [
       "<Figure size 432x288 with 1 Axes>"
      ]
     },
     "metadata": {
      "needs_background": "light"
     },
     "output_type": "display_data"
    }
   ],
   "source": [
    "sns.histplot(data=attack_grass_pokemon, label='Grass', color='blue', alpha=0.65, bins=10, kde=True, stat='density')\n",
    "sns.histplot(data=attack_rock_pokemon, label='Rock', color='red', alpha=0.65, bins=10, kde=True, stat='density')\n",
    "plt.legend(title='Class')"
   ]
  },
  {
   "cell_type": "markdown",
   "id": "a3c1ac6b",
   "metadata": {},
   "source": [
    "p-value < $\\alpha$ говорит нам о существенных различиях между атакой классов \"Grass\" и \"Rock\"\n",
    "\n",
    "Знак статистики можно интерпритировать как средняя атака класса \"Rock\" больше класса \"Grass\"."
   ]
  },
  {
   "cell_type": "markdown",
   "id": "94543c45",
   "metadata": {},
   "source": [
    "## Задание № 2 (Обязательно):\n",
    "Профессор Оук уже долго не может спать по ночам ведь его волнует вопрос, а правда, что покемоны что покемоны в классе Water в среднем более быстрые, чем покемоны в классе Normal.\n",
    "\n",
    "Проверьте, прав ли он, и убедите его в своем выводе статистически.\n",
    "\n",
    "Примечание: если есть покемоны относятся к обоим классам, выбросьте их;\n",
    "\n",
    "Вы можете предположить, что распределение скорости движения является нормальным для всех классов покемонов."
   ]
  },
  {
   "cell_type": "code",
   "execution_count": 8,
   "id": "bbb4513c",
   "metadata": {},
   "outputs": [
    {
     "data": {
      "image/png": "[encoded data removed]",
      "text/plain": [
       "<Figure size 432x288 with 1 Axes>"
      ]
     },
     "metadata": {
      "needs_background": "light"
     },
     "output_type": "display_data"
    }
   ],
   "source": [
    "speed_water_pokemon = pokemon[(pokemon['Class 1'] == 'Water') & (pokemon['Class 2'] != 'Normal') |\n",
    "                        (pokemon['Class 1'] != 'Normal') & (pokemon['Class 2'] == 'Water')]['Speed']\n",
    "\n",
    "speed_normal_pokemon = pokemon[(pokemon['Class 1'] == 'Normal') & (pokemon['Class 2'] != 'Water') |\n",
    "                        (pokemon['Class 1'] != 'Water') & (pokemon['Class 2'] == 'Normal')]['Speed']\n",
    "\n",
    "import matplotlib.pyplot as plt\n",
    "sns.histplot(data=speed_normal_pokemon, label='Normal', stat='density', color='b', alpha=0.7, kde=True)\n",
    "sns.histplot(data=speed_water_pokemon, label='Water', stat='density', color='r', alpha=0.7, kde=True)\n",
    "# plt.legend(['Water_speed', 'Normal_speed attack'])\n",
    "plt.legend(title='Class')\n",
    "plt.xlabel('Speed')\n",
    "plt.title('Speed density distribution by class');"
   ]
  },
  {
   "cell_type": "code",
   "execution_count": 9,
   "id": "89f3dc88",
   "metadata": {},
   "outputs": [
    {
     "data": {
      "text/plain": [
       "Ttest_indResult(statistic=-2.150913330007121, pvalue=0.03255353551391033)"
      ]
     },
     "execution_count": 9,
     "metadata": {},
     "output_type": "execute_result"
    }
   ],
   "source": [
    "stats.ttest_ind(speed_water_pokemon, speed_normal_pokemon)"
   ]
  },
  {
   "cell_type": "markdown",
   "id": "33ee98cf",
   "metadata": {},
   "source": [
    "## Задание № 3:\n",
    "Профессор Оук тот еще безумец. Он изобрел сыворотку, способную ускорить покемона. Однако, мы усомнились в эффективности его вакцины. Професоор дал эту сыворотку следующим покемонам: смотри массив treathed_pokemon. Проверьте, работает ли вообще его сыворотка, убедите всех в своем выводе статистически.\n",
    "\n",
    "Вы можете предположить, что распределение скорости движения является нормальным для всех классов покемонов."
   ]
  },
  {
   "cell_type": "code",
   "execution_count": null,
   "id": "a89ca8bd",
   "metadata": {},
   "outputs": [],
   "source": []
  },
  {
   "cell_type": "markdown",
   "id": "f4539bd6",
   "metadata": {},
   "source": [
    "## Задание № 4:\n",
    "Профессор Оук тот еще безумец. Он изобрел сыворотку, способную ускорить покемона. Однако, мы усомнились в эффективности его вакцины. Професоор дал эту сыворотку следующим покемонам: смотри массив treathed_pokemon. Проверьте, работает ли вообще его сыворотка, убедите всех в своем выводе статистически.\n",
    "\n",
    "Вы можете предположить, что распределение скорости движения является нормальным для всех классов покемонов."
   ]
  },
  {
   "cell_type": "code",
   "execution_count": 10,
   "id": "e96d0f49",
   "metadata": {},
   "outputs": [],
   "source": [
    "# Покемоны, которые принимали сыворотку увеличения скорости\n",
    "treathed_pokemon = ['Mega Beedrill','Mega Alakazam', 'Deoxys Normal Forme', 'Mega Lopunny']"
   ]
  },
  {
   "cell_type": "code",
   "execution_count": 11,
   "id": "1ed1a3af",
   "metadata": {},
   "outputs": [
    {
     "data": {
      "text/html": [
       "<div>\n",
       "<style scoped>\n",
       "    .dataframe tbody tr th:only-of-type {\n",
       "        vertical-align: middle;\n",
       "    }\n",
       "\n",
       "    .dataframe tbody tr th {\n",
       "        vertical-align: top;\n",
       "    }\n",
       "\n",
       "    .dataframe thead th {\n",
       "        text-align: right;\n",
       "    }\n",
       "</style>\n",
       "<table border=\"1\" class=\"dataframe\">\n",
       "  <thead>\n",
       "    <tr style=\"text-align: right;\">\n",
       "      <th></th>\n",
       "      <th>pid</th>\n",
       "      <th>Name</th>\n",
       "      <th>Class 1</th>\n",
       "      <th>Class 2</th>\n",
       "      <th>HP</th>\n",
       "      <th>Attack</th>\n",
       "      <th>Defense</th>\n",
       "      <th>Sp. Atk</th>\n",
       "      <th>Sp. Def</th>\n",
       "      <th>Speed</th>\n",
       "      <th>Legendary</th>\n",
       "    </tr>\n",
       "  </thead>\n",
       "  <tbody>\n",
       "    <tr>\n",
       "      <th>19</th>\n",
       "      <td>20</td>\n",
       "      <td>Mega Beedrill</td>\n",
       "      <td>Bug</td>\n",
       "      <td>Poison</td>\n",
       "      <td>65</td>\n",
       "      <td>150</td>\n",
       "      <td>40</td>\n",
       "      <td>15</td>\n",
       "      <td>80</td>\n",
       "      <td>145</td>\n",
       "      <td>False</td>\n",
       "    </tr>\n",
       "    <tr>\n",
       "      <th>71</th>\n",
       "      <td>72</td>\n",
       "      <td>Mega Alakazam</td>\n",
       "      <td>Psychic</td>\n",
       "      <td>NaN</td>\n",
       "      <td>55</td>\n",
       "      <td>50</td>\n",
       "      <td>65</td>\n",
       "      <td>175</td>\n",
       "      <td>95</td>\n",
       "      <td>150</td>\n",
       "      <td>False</td>\n",
       "    </tr>\n",
       "    <tr>\n",
       "      <th>428</th>\n",
       "      <td>429</td>\n",
       "      <td>Deoxys Normal Forme</td>\n",
       "      <td>Psychic</td>\n",
       "      <td>NaN</td>\n",
       "      <td>50</td>\n",
       "      <td>150</td>\n",
       "      <td>50</td>\n",
       "      <td>150</td>\n",
       "      <td>50</td>\n",
       "      <td>150</td>\n",
       "      <td>True</td>\n",
       "    </tr>\n",
       "    <tr>\n",
       "      <th>476</th>\n",
       "      <td>477</td>\n",
       "      <td>Mega Lopunny</td>\n",
       "      <td>Normal</td>\n",
       "      <td>Fighting</td>\n",
       "      <td>65</td>\n",
       "      <td>136</td>\n",
       "      <td>94</td>\n",
       "      <td>54</td>\n",
       "      <td>96</td>\n",
       "      <td>135</td>\n",
       "      <td>False</td>\n",
       "    </tr>\n",
       "  </tbody>\n",
       "</table>\n",
       "</div>"
      ],
      "text/plain": [
       "     pid                 Name  Class 1   Class 2  HP  Attack  Defense  \\\n",
       "19    20        Mega Beedrill      Bug    Poison  65     150       40   \n",
       "71    72        Mega Alakazam  Psychic       NaN  55      50       65   \n",
       "428  429  Deoxys Normal Forme  Psychic       NaN  50     150       50   \n",
       "476  477         Mega Lopunny   Normal  Fighting  65     136       94   \n",
       "\n",
       "     Sp. Atk  Sp. Def  Speed  Legendary  \n",
       "19        15       80    145      False  \n",
       "71       175       95    150      False  \n",
       "428      150       50    150       True  \n",
       "476       54       96    135      False  "
      ]
     },
     "execution_count": 11,
     "metadata": {},
     "output_type": "execute_result"
    }
   ],
   "source": [
    "treathed = pokemon[pokemon['Name'].isin(treathed_pokemon)]\n",
    "treathed"
   ]
  },
  {
   "cell_type": "code",
   "execution_count": 12,
   "id": "23b60127",
   "metadata": {},
   "outputs": [
    {
     "data": {
      "text/plain": [
       "Ttest_1sampResult(statistic=-74.67324937314746, pvalue=0.0)"
      ]
     },
     "execution_count": 12,
     "metadata": {},
     "output_type": "execute_result"
    }
   ],
   "source": [
    "stats.ttest_1samp(pokemon['Speed'], treathed['Speed'].mean())"
   ]
  },
  {
   "cell_type": "code",
   "execution_count": 13,
   "id": "5a4167dd",
   "metadata": {},
   "outputs": [
    {
     "data": {
      "text/plain": [
       "MannwhitneyuResult(statistic=27.5, pvalue=0.0003434406962426653)"
      ]
     },
     "execution_count": 13,
     "metadata": {},
     "output_type": "execute_result"
    }
   ],
   "source": [
    "stats.mannwhitneyu(pokemon['Speed'], treathed['Speed'])"
   ]
  },
  {
   "cell_type": "code",
   "execution_count": 14,
   "id": "5061e2cf",
   "metadata": {},
   "outputs": [
    {
     "data": {
      "text/plain": [
       "Ttest_indResult(statistic=-5.2763372799195425, pvalue=1.697269585494424e-07)"
      ]
     },
     "execution_count": 14,
     "metadata": {},
     "output_type": "execute_result"
    }
   ],
   "source": [
    "stats.ttest_ind(pokemon['Speed'], treathed['Speed'])"
   ]
  },
  {
   "cell_type": "code",
   "execution_count": 15,
   "id": "333d4e43",
   "metadata": {},
   "outputs": [
    {
     "data": {
      "image/png": "[encoded data removed]",
      "text/plain": [
       "<Figure size 720x360 with 1 Axes>"
      ]
     },
     "metadata": {
      "needs_background": "light"
     },
     "output_type": "display_data"
    }
   ],
   "source": [
    "plt.figure(figsize=(10,5))\n",
    "sns.histplot(data=pokemon['Speed'], label='Common', stat='density', color='b', alpha=0.7)\n",
    "sns.histplot(data=treathed['Speed'], label='Treathed', stat='density', color='r', alpha=0.7)\n",
    "plt.legend(title='Type')\n",
    "plt.xlabel('Speed')\n",
    "plt.title('Speed density distribution by type');"
   ]
  },
  {
   "cell_type": "markdown",
   "id": "fbd8e431",
   "metadata": {},
   "source": [
    "Можем сделать вывод, что средняя скорость у покемонов, которые принимали сыворотку значительно выше"
   ]
  },
  {
   "cell_type": "markdown",
   "id": "9e626b94",
   "metadata": {},
   "source": [
    "## Задание № 5:\n",
    "Профессор Оук всегда любил истории про легендарных покемонов. Однако, профессор не очень уверен, что они самые лучшие относительно остальных покемонов. Оук предложил разобраться в этом нам. Проверьте, действительно ли сумма характеристик HP,Attack,Defense у легендарных покемонов выше, чем у других покемонов? А произведение этих же параметров?? Найдите ответы на эти вопросы и убедите всех в своем выводе статистически.\n",
    "\n",
    "Вы можете предположить, что распределение сум и произведений этих параметров является нормальным для всех классов покемонов."
   ]
  },
  {
   "cell_type": "code",
   "execution_count": 16,
   "id": "6a94c8c8",
   "metadata": {},
   "outputs": [
    {
     "data": {
      "text/html": [
       "<div>\n",
       "<style scoped>\n",
       "    .dataframe tbody tr th:only-of-type {\n",
       "        vertical-align: middle;\n",
       "    }\n",
       "\n",
       "    .dataframe tbody tr th {\n",
       "        vertical-align: top;\n",
       "    }\n",
       "\n",
       "    .dataframe thead th {\n",
       "        text-align: right;\n",
       "    }\n",
       "</style>\n",
       "<table border=\"1\" class=\"dataframe\">\n",
       "  <thead>\n",
       "    <tr style=\"text-align: right;\">\n",
       "      <th>Legendary</th>\n",
       "      <th>False</th>\n",
       "      <th>True</th>\n",
       "    </tr>\n",
       "  </thead>\n",
       "  <tbody>\n",
       "    <tr>\n",
       "      <th>HP</th>\n",
       "      <td>67.182313</td>\n",
       "      <td>92.738462</td>\n",
       "    </tr>\n",
       "    <tr>\n",
       "      <th>Attack</th>\n",
       "      <td>75.669388</td>\n",
       "      <td>116.676923</td>\n",
       "    </tr>\n",
       "    <tr>\n",
       "      <th>Defense</th>\n",
       "      <td>71.559184</td>\n",
       "      <td>99.661538</td>\n",
       "    </tr>\n",
       "  </tbody>\n",
       "</table>\n",
       "</div>"
      ],
      "text/plain": [
       "Legendary      False       True \n",
       "HP         67.182313   92.738462\n",
       "Attack     75.669388  116.676923\n",
       "Defense    71.559184   99.661538"
      ]
     },
     "execution_count": 16,
     "metadata": {},
     "output_type": "execute_result"
    }
   ],
   "source": [
    "gblegend = pokemon[['HP', 'Attack', 'Defense', 'Legendary']].groupby('Legendary') \n",
    "m = gblegend.sum() / gblegend.count()\n",
    "m.T"
   ]
  },
  {
   "cell_type": "code",
   "execution_count": 17,
   "id": "3da55611",
   "metadata": {},
   "outputs": [],
   "source": [
    "pokemon_ = pokemon.copy().drop(columns=['Name', 'Class 1', 'Class 2', 'pid'])"
   ]
  },
  {
   "cell_type": "code",
   "execution_count": 18,
   "id": "54bfda92",
   "metadata": {},
   "outputs": [
    {
     "name": "stdout",
     "output_type": "stream",
     "text": [
      "65\n"
     ]
    }
   ],
   "source": [
    "pokemon_['Sum_Val'] = pokemon_['HP'] + pokemon_['Attack'] + pokemon_['Defense']\n",
    "pokemon_['Product_Val'] = pokemon_['HP'] * pokemon_['Attack'] * pokemon_['Defense']\n",
    "\n",
    "legend_pokemon = pokemon_[pokemon_['Legendary'] == True]\n",
    "print(len(legend_pokemon))"
   ]
  },
  {
   "cell_type": "code",
   "execution_count": 19,
   "id": "f994bcf1",
   "metadata": {},
   "outputs": [
    {
     "name": "stdout",
     "output_type": "stream",
     "text": [
      "735\n"
     ]
    }
   ],
   "source": [
    "common_pokemon = pokemon_[pokemon_['Legendary'] == False]\n",
    "print(len(common_pokemon))"
   ]
  },
  {
   "cell_type": "code",
   "execution_count": 20,
   "id": "9bfaed82",
   "metadata": {},
   "outputs": [
    {
     "data": {
      "text/plain": [
       "<matplotlib.legend.Legend at 0x1c868d1b220>"
      ]
     },
     "execution_count": 20,
     "metadata": {},
     "output_type": "execute_result"
    },
    {
     "data": {
      "image/png": "[encoded data removed]",
      "text/plain": [
       "<Figure size 432x288 with 1 Axes>"
      ]
     },
     "metadata": {
      "needs_background": "light"
     },
     "output_type": "display_data"
    }
   ],
   "source": [
    "sns.histplot(data=common_pokemon['Sum_Val'], stat='density', color='b', alpha=0.7, kde=True, label='Common')\n",
    "sns.histplot(data=legend_pokemon['Sum_Val'], stat='density', color='r', alpha=0.7, kde=True, label='Legend')\n",
    "plt.title('Density distribution of sum characteristics by type')\n",
    "plt.legend(title='Type')"
   ]
  },
  {
   "cell_type": "code",
   "execution_count": 21,
   "id": "1c16312c",
   "metadata": {},
   "outputs": [
    {
     "data": {
      "text/plain": [
       "Ttest_indResult(statistic=-11.591852366462316, pvalue=7.970942205722087e-29)"
      ]
     },
     "execution_count": 21,
     "metadata": {},
     "output_type": "execute_result"
    }
   ],
   "source": [
    "stats.ttest_ind(common_pokemon['Sum_Val'], legend_pokemon['Sum_Val'])"
   ]
  },
  {
   "cell_type": "markdown",
   "id": "dd10b278",
   "metadata": {},
   "source": [
    "Сумма характеристик значимо различается, сумма характеристик легендарных покемонов выше, чем у обычных."
   ]
  },
  {
   "cell_type": "code",
   "execution_count": 22,
   "id": "b306e9ae",
   "metadata": {},
   "outputs": [
    {
     "data": {
      "text/plain": [
       "<matplotlib.legend.Legend at 0x1c868db2850>"
      ]
     },
     "execution_count": 22,
     "metadata": {},
     "output_type": "execute_result"
    },
    {
     "data": {
      "image/png": "[encoded data removed]",
      "text/plain": [
       "<Figure size 432x288 with 1 Axes>"
      ]
     },
     "metadata": {
      "needs_background": "light"
     },
     "output_type": "display_data"
    }
   ],
   "source": [
    "sns.histplot(data=common_pokemon['Product_Val'], stat='density', color='b', alpha=0.7, kde=True, label='Common')\n",
    "sns.histplot(data=legend_pokemon['Product_Val'], stat='density', color='r', alpha=0.7, kde=True, label='Legend')\n",
    "plt.title('Density distribution of product of characteristics by type')\n",
    "plt.legend(title='Type')"
   ]
  },
  {
   "cell_type": "code",
   "execution_count": 23,
   "id": "aa84c014",
   "metadata": {},
   "outputs": [
    {
     "data": {
      "text/plain": [
       "MannwhitneyuResult(statistic=5741.5, pvalue=1.4775262883780305e-24)"
      ]
     },
     "execution_count": 23,
     "metadata": {},
     "output_type": "execute_result"
    }
   ],
   "source": [
    "stats.mannwhitneyu(common_pokemon['Product_Val'], legend_pokemon['Product_Val'])"
   ]
  },
  {
   "cell_type": "markdown",
   "id": "121a38f7",
   "metadata": {},
   "source": [
    "Произведение характеристик значимо различается. Произведение характеристик легендарных покемонов в среднем выше, чем у обычных."
   ]
  },
  {
   "cell_type": "markdown",
   "id": "547f543f",
   "metadata": {},
   "source": [
    "## Задание № 6:\n",
    "Профессор Оук частенько наблюдает за боями покемонов. После очередных таких боев Оук выделил три класса best_defence_class, которые на его взгляд одинаковы по \"силе обычной защиты\" Defense. Проверьте, действительно ли эти классы покемонов не отличаются по уровню защиты статистически значимо? Все та же статистика вам в помощь!\n",
    "\n",
    "Вы можете предположить, что распределение сум и произведений этих параметров является нормальным для всех классов покемонов."
   ]
  },
  {
   "cell_type": "code",
   "execution_count": 4,
   "id": "314a9f67",
   "metadata": {},
   "outputs": [
    {
     "data": {
      "text/plain": [
       "['Rock', 'Ground', 'Steel', 'Ice']"
      ]
     },
     "execution_count": 4,
     "metadata": {},
     "output_type": "execute_result"
    }
   ],
   "source": [
    "best_defence_class = ['Rock', 'Ground','Steel','Ice']\n",
    "best_defence_class"
   ]
  },
  {
   "cell_type": "code",
   "execution_count": 24,
   "id": "bbcd6391",
   "metadata": {},
   "outputs": [],
   "source": [
    "x = {}\n",
    "for pok_class in best_defence_class:\n",
    "    x[pok_class] = pokemon[(pokemon['Class 1'] == pok_class) &\n",
    "                           ~(pokemon['Class 2'].isin(best_defence_class)) |\n",
    "                           ~(pokemon['Class 1'].isin(best_defence_class)) &\n",
    "                           (pokemon['Class 2'] == pok_class)]['Defense']"
   ]
  },
  {
   "cell_type": "code",
   "execution_count": 25,
   "id": "ee3b2bb7",
   "metadata": {},
   "outputs": [
    {
     "data": {
      "text/plain": [
       "F_onewayResult(statistic=8.820416931465497, pvalue=1.885892116821956e-05)"
      ]
     },
     "execution_count": 25,
     "metadata": {},
     "output_type": "execute_result"
    }
   ],
   "source": [
    "stats.f_oneway(x['Rock'], x['Ground'], x['Steel'], x['Ice'])"
   ]
  },
  {
   "cell_type": "markdown",
   "id": "235f3cea",
   "metadata": {},
   "source": [
    "Данные группы статистически значимо различаются по уровню защиты"
   ]
  },
  {
   "cell_type": "code",
   "execution_count": 26,
   "id": "75b52fbe",
   "metadata": {},
   "outputs": [
    {
     "data": {
      "image/png": "[encoded data removed]",
      "text/plain": [
       "<Figure size 432x288 with 1 Axes>"
      ]
     },
     "metadata": {
      "needs_background": "light"
     },
     "output_type": "display_data"
    }
   ],
   "source": [
    "ax = sns.violinplot(data=[x['Rock'], x['Ground'], x['Steel'], x['Ice']])\n",
    "ax.set_xticklabels(best_defence_class)\n",
    "ax.set_ylabel('Defense');"
   ]
  },
  {
   "cell_type": "code",
   "execution_count": null,
   "id": "7855f55b",
   "metadata": {},
   "outputs": [],
   "source": []
  }
 ],
 "metadata": {
  "kernelspec": {
   "display_name": "Python 3",
   "language": "python",
   "name": "python3"
  },
  "language_info": {
   "codemirror_mode": {
    "name": "ipython",
    "version": 3
   },
   "file_extension": ".py",
   "mimetype": "text/x-python",
   "name": "python",
   "nbconvert_exporter": "python",
   "pygments_lexer": "ipython3",
   "version": "3.8.8"
  }
 },
 "nbformat": 4,
 "nbformat_minor": 5
}
