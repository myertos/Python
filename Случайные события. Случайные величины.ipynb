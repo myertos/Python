{
 "cells": [
  {
   "cell_type": "markdown",
   "id": "3e897dfb",
   "metadata": {},
   "source": [
    "**Домашнее задание к лекции «Случайные события. Случайные величины»\n",
    "\n",
    "Текст задания см. на скриншоте http://prntscr.com/uh35yg\n",
    "\n",
    "Смоделировать игру против лотерейного автомата типа “777”. Игрок платит 1 руб., после чего выпадает случайное целое число, равномерно распределенное от 0 до 999. При некоторых значениях числа игрок получает выигрыш.\n",
    "\n",
    "777: 200 руб.\n",
    "999: 100 руб.\n",
    "555: 50 руб.\n",
    "333: 15 руб.\n",
    "111: 10 руб.\n",
    "*77: 5 руб.\n",
    "**7: 3 руб.\n",
    "*00: 2 руб.\n",
    "**0: 1 руб.\n",
    "\n",
    "Вопросы:\n",
    "\n",
    "Выгодна ли игра игроку?\n",
    "Сколько в среднем приобретает или теряет игрок за одну игру?"
   ]
  },
  {
   "cell_type": "code",
   "execution_count": 1,
   "id": "f067f7cb",
   "metadata": {},
   "outputs": [],
   "source": [
    "import numpy as np"
   ]
  },
  {
   "cell_type": "code",
   "execution_count": 4,
   "id": "2913f484",
   "metadata": {},
   "outputs": [
    {
     "name": "stdout",
     "output_type": "stream",
     "text": [
      "В среднем за одну игру игрок теряет: -0.197193 рубль(ей)\n"
     ]
    }
   ],
   "source": [
    "trials = 1000000\n",
    "\n",
    "entrance_fee = 1\n",
    "\n",
    "prize_sum = 0\n",
    "\n",
    "for i in range(trials):\n",
    "    \n",
    "    result = np.random.randint(0, 1000)\n",
    "    \n",
    "    if result % 1000 == 777: prize = 200 - entrance_fee\n",
    "    elif result % 1000 == 999: prize = 100 - entrance_fee\n",
    "    elif result % 1000 == 555: prize = 50 - entrance_fee\n",
    "    elif result % 1000 == 333: prize = 15 - entrance_fee\n",
    "    elif result % 1000 == 111: prize = 10 - entrance_fee\n",
    "    elif result % 100 == 77: prize = 5 - entrance_fee\n",
    "    elif result % 10 == 7: prize = 3 - entrance_fee\n",
    "    elif result % 100 == 0: prize = 2 - entrance_fee\n",
    "    elif result % 10 == 0: prize = 1 - entrance_fee\n",
    "    else: prize = 0 - entrance_fee\n",
    "    \n",
    "    prize_sum = prize_sum + prize\n",
    "        \n",
    "print('В среднем за одну игру игрок теряет:', prize_sum / trials, 'рубль(ей)')"
   ]
  },
  {
   "cell_type": "markdown",
   "id": "821e1183",
   "metadata": {},
   "source": [
    "**Вывод\n",
    "\n",
    "Если сыграть в игру миллион раз при том, что автомат генерирует числа действительно случайным образом, то игрок будет в среднем проигрывать 0.19 рубля."
   ]
  }
 ],
 "metadata": {
  "kernelspec": {
   "display_name": "Python 3",
   "language": "python",
   "name": "python3"
  },
  "language_info": {
   "codemirror_mode": {
    "name": "ipython",
    "version": 3
   },
   "file_extension": ".py",
   "mimetype": "text/x-python",
   "name": "python",
   "nbconvert_exporter": "python",
   "pygments_lexer": "ipython3",
   "version": "3.8.8"
  }
 },
 "nbformat": 4,
 "nbformat_minor": 5
}
